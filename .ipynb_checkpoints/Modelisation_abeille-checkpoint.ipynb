{
 "cells": [
  {
   "cell_type": "code",
   "execution_count": 10,
   "id": "equipped-computer",
   "metadata": {},
   "outputs": [],
   "source": [
    "#nbi:hide_in\n",
    "#nbi:hide_out\n",
    "\n",
    "from ipywidgets import interact, interactive, widgets\n",
    "from IPython.display import display"
   ]
  },
  {
   "cell_type": "code",
   "execution_count": 2,
   "id": "greek-mount",
   "metadata": {},
   "outputs": [],
   "source": [
    "def square(x):\n",
    "    return x*x"
   ]
  },
  {
   "cell_type": "code",
   "execution_count": 3,
   "id": "trained-closing",
   "metadata": {},
   "outputs": [
    {
     "data": {
      "application/vnd.jupyter.widget-view+json": {
       "model_id": "7b8c43661d0f4fc994518a393c520e2a",
       "version_major": 2,
       "version_minor": 0
      },
      "text/plain": [
       "interactive(children=(IntSlider(value=50, description='x', step=10), Output()), _dom_classes=('widget-interact…"
      ]
     },
     "metadata": {},
     "output_type": "display_data"
    },
    {
     "data": {
      "text/plain": [
       "<function __main__.square(x)>"
      ]
     },
     "execution_count": 3,
     "metadata": {},
     "output_type": "execute_result"
    }
   ],
   "source": [
    "interact(square, x=(0,100,10))"
   ]
  },
  {
   "cell_type": "code",
   "execution_count": 4,
   "id": "meaning-monitor",
   "metadata": {},
   "outputs": [],
   "source": [
    "def friends(name, number):\n",
    "    return '{} has {} friends !'.format(name, number)"
   ]
  },
  {
   "cell_type": "code",
   "execution_count": 5,
   "id": "likely-physics",
   "metadata": {},
   "outputs": [
    {
     "data": {
      "application/vnd.jupyter.widget-view+json": {
       "model_id": "5c55c469b38f4342975dd3857c48680e",
       "version_major": 2,
       "version_minor": 0
      },
      "text/plain": [
       "interactive(children=(Text(value='Sam', description='name'), IntSlider(value=7, description='number', max=10, …"
      ]
     },
     "metadata": {},
     "output_type": "display_data"
    },
    {
     "data": {
      "text/plain": [
       "<function __main__.friends(name, number)>"
      ]
     },
     "execution_count": 5,
     "metadata": {},
     "output_type": "execute_result"
    }
   ],
   "source": [
    "interact(friends, name = 'Sam', number = (5,10))"
   ]
  },
  {
   "cell_type": "code",
   "execution_count": 6,
   "id": "infectious-expense",
   "metadata": {},
   "outputs": [
    {
     "data": {
      "application/vnd.jupyter.widget-view+json": {
       "model_id": "589e214fd7f04c0d92ab7c7c75306a24",
       "version_major": 2,
       "version_minor": 0
      },
      "text/plain": [
       "interactive(children=(Text(value='Sam', description='name'), Dropdown(description='number', options={'One': 1,…"
      ]
     },
     "metadata": {},
     "output_type": "display_data"
    },
    {
     "data": {
      "text/plain": [
       "<function __main__.friends(name, number)>"
      ]
     },
     "execution_count": 6,
     "metadata": {},
     "output_type": "execute_result"
    }
   ],
   "source": [
    "interact(friends, name = 'Sam', number = {'One' : 1, 'Five' : 5, 'Ten' : 10})"
   ]
  },
  {
   "cell_type": "code",
   "execution_count": 16,
   "id": "stone-treasurer",
   "metadata": {},
   "outputs": [],
   "source": [
    "def affiche():\n",
    "    print(\"Je m'affiche correctement maintenant\")"
   ]
  },
  {
   "cell_type": "code",
   "execution_count": 17,
   "id": "charitable-texture",
   "metadata": {},
   "outputs": [],
   "source": [
    "#nbi:hide_in\n",
    "def on_button_clicked1(b):\n",
    "    with output1:\n",
    "        output1.clear_output()\n",
    "        \n",
    "        affiche()"
   ]
  },
  {
   "cell_type": "code",
   "execution_count": 18,
   "id": "shared-brazil",
   "metadata": {},
   "outputs": [
    {
     "data": {
      "application/vnd.jupyter.widget-view+json": {
       "model_id": "5e442f184e9245549a7242322d93f801",
       "version_major": 2,
       "version_minor": 0
      },
      "text/plain": [
       "Button(button_style='success', description='Affichage', style=ButtonStyle())"
      ]
     },
     "metadata": {},
     "output_type": "display_data"
    },
    {
     "data": {
      "application/vnd.jupyter.widget-view+json": {
       "model_id": "0a2057a4e9e8437c893af36018684bab",
       "version_major": 2,
       "version_minor": 0
      },
      "text/plain": [
       "Output()"
      ]
     },
     "metadata": {},
     "output_type": "display_data"
    }
   ],
   "source": [
    "#nbi:hide_in\n",
    "button1 = widgets.Button(description=\"Affichage\", button_style='success') # 'success', 'info', 'warning', 'danger' or '')\n",
    "output1 = widgets.Output()\n",
    "display(button1, output1)\n",
    "\n",
    "button1.on_click(on_button_clicked1)"
   ]
  },
  {
   "cell_type": "code",
   "execution_count": null,
   "id": "ordered-passion",
   "metadata": {},
   "outputs": [],
   "source": []
  }
 ],
 "metadata": {
  "kernelspec": {
   "display_name": "Python 3",
   "language": "python",
   "name": "python3"
  },
  "language_info": {
   "codemirror_mode": {
    "name": "ipython",
    "version": 3
   },
   "file_extension": ".py",
   "mimetype": "text/x-python",
   "name": "python",
   "nbconvert_exporter": "python",
   "pygments_lexer": "ipython3",
   "version": "3.7.10"
  }
 },
 "nbformat": 4,
 "nbformat_minor": 5
}

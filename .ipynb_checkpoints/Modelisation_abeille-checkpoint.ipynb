{
 "cells": [
  {
   "cell_type": "code",
   "execution_count": 44,
   "id": "equipped-computer",
   "metadata": {},
   "outputs": [],
   "source": [
    "#nbi:hide_in\n",
    "#nbi:hide_out\n",
    "#!pip3 install sklearn\n",
    "\n",
    "from ipywidgets import interact, interactive, widgets\n",
    "from IPython.display import display\n",
    "import pandas as pd\n",
    "from sklearn.tree import DecisionTreeClassifier\n",
    "from sklearn.model_selection import train_test_split\n",
    "from sklearn.metrics import accuracy_score\n",
    "#import numpy as np"
   ]
  },
  {
   "cell_type": "code",
   "execution_count": 45,
   "metadata": {},
   "outputs": [
    {
     "data": {
      "application/vnd.jupyter.widget-view+json": {
       "model_id": "81f4c31902bd401e9d5025c62206406a",
       "version_major": 2,
       "version_minor": 0
      },
      "text/plain": [
       "VBox(children=(Label(value='Poids 300 abeilles en g'), FloatText(value=0.0)))"
      ]
     },
     "metadata": {},
     "output_type": "display_data"
    }
   ],
   "source": [
    "#nbi:hide_in\n",
    "Label_ab = widgets.Label('Poids 300 abeilles en g')\n",
    "pds_ab = widgets.FloatText()\n",
    "\n",
    "widgets.VBox([Label_ab,pds_ab])"
   ]
  },
  {
   "cell_type": "code",
   "execution_count": 46,
   "metadata": {},
   "outputs": [
    {
     "data": {
      "application/vnd.jupyter.widget-view+json": {
       "model_id": "e3151073429548e6a86aad30ebebc39c",
       "version_major": 2,
       "version_minor": 0
      },
      "text/plain": [
       "HBox(children=(VBox(children=(Label(value='Précipitation en mm'), FloatText(value=0.0), Label(value='Précipita…"
      ]
     },
     "metadata": {},
     "output_type": "display_data"
    }
   ],
   "source": [
    "#nbi:hide_in\n",
    "Label_prec = widgets.Label('Précipitation en mm')\n",
    "prec = widgets.FloatText()\n",
    "\n",
    "Label_prec1 = widgets.Label('Précipitation en mm à J-1')\n",
    "prec1 = widgets.FloatText()\n",
    "\n",
    "Label_prec2 = widgets.Label('Précipitation en mm à J-2')\n",
    "prec2 = widgets.FloatText()\n",
    "\n",
    "Label_prec3 = widgets.Label('Précipitation en mm à J-3')\n",
    "prec3 = widgets.FloatText()\n",
    "\n",
    "vbox1prec = widgets.VBox([Label_prec,prec, Label_prec1,prec1])\n",
    "#vbox2 = widgets.VBox([Label_prec1,prec1])\n",
    "vbox3prec = widgets.VBox([Label_prec2,prec2, Label_prec3,prec3])\n",
    "#vbox4 = widgets.VBox([Label_prec3,prec3])\n",
    "\n",
    "widgets.HBox([vbox1prec, vbox3prec])#, vbox3, vbox4])"
   ]
  },
  {
   "cell_type": "code",
   "execution_count": 47,
   "metadata": {},
   "outputs": [
    {
     "data": {
      "application/vnd.jupyter.widget-view+json": {
       "model_id": "7ad8826751dc4e83ac288733b3a2f5aa",
       "version_major": 2,
       "version_minor": 0
      },
      "text/plain": [
       "HBox(children=(VBox(children=(Label(value='Humidité en %'), FloatText(value=0.0), Label(value='Humidité en % à…"
      ]
     },
     "metadata": {},
     "output_type": "display_data"
    }
   ],
   "source": [
    "#nbi:hide_in\n",
    "Label_hum = widgets.Label('Humidité en %')\n",
    "hum = widgets.FloatText()\n",
    "\n",
    "Label_hum1 = widgets.Label('Humidité en % à J-1')\n",
    "hum1 = widgets.FloatText()\n",
    "\n",
    "Label_hum2 = widgets.Label('Humidité en % à J-2')\n",
    "hum2 = widgets.FloatText()\n",
    "\n",
    "Label_hum3 = widgets.Label('Humidité en % à J-3')\n",
    "hum3 = widgets.FloatText()\n",
    "\n",
    "vbox1hum = widgets.VBox([Label_hum, hum, Label_hum1, hum1])\n",
    "#vbox2 = widgets.VBox([Label_prec1,prec1])\n",
    "vbox3hum = widgets.VBox([Label_hum2, hum2, Label_hum3, hum3])\n",
    "#vbox4 = widgets.VBox([Label_prec3,prec3])\n",
    "\n",
    "widgets.HBox([vbox1hum, vbox3hum])#, vbox3, vbox4])"
   ]
  },
  {
   "cell_type": "code",
   "execution_count": 48,
   "metadata": {},
   "outputs": [
    {
     "data": {
      "application/vnd.jupyter.widget-view+json": {
       "model_id": "3b9fd9ceba9041a99183cada08a34a99",
       "version_major": 2,
       "version_minor": 0
      },
      "text/plain": [
       "HBox(children=(VBox(children=(Label(value='Température moyenne en °C'), FloatText(value=0.0), Label(value='Tem…"
      ]
     },
     "metadata": {},
     "output_type": "display_data"
    }
   ],
   "source": [
    "#nbi:hide_in\n",
    "Label_temp = widgets.Label('Température moyenne en °C')\n",
    "temp = widgets.FloatText()\n",
    "\n",
    "Label_temp1 = widgets.Label('Température moyenne en °C à J-1')\n",
    "temp1 = widgets.FloatText()\n",
    "\n",
    "Label_temp2 = widgets.Label('Température moyenne en °C à J-2')\n",
    "temp2 = widgets.FloatText()\n",
    "\n",
    "Label_temp3 = widgets.Label('Température moyenne en °C à J-3')\n",
    "temp3 = widgets.FloatText()\n",
    "\n",
    "vbox1temp = widgets.VBox([Label_temp, temp, Label_temp1, temp1])\n",
    "#vbox2 = widgets.VBox([Label_prec1,prec1])\n",
    "vbox3temp = widgets.VBox([Label_temp2, temp2, Label_temp3, temp3])\n",
    "#vbox4 = widgets.VBox([Label_prec3,prec3])\n",
    "\n",
    "widgets.HBox([vbox1temp, vbox3temp])#, vbox3, vbox4])"
   ]
  },
  {
   "cell_type": "code",
   "execution_count": 49,
   "metadata": {},
   "outputs": [],
   "source": [
    "#nbi:hide_in\n",
    "#Label_dist_met = widgets.Label('Distance station météo - site en km')\n",
    "#dist_met = widgets.FloatText()\n",
    "\n",
    "#Label_alt_met = widgets.Label('Altitude station météo en m')\n",
    "#alt_met = widgets.FloatText()\n",
    "\n",
    "#Label_alt_site = widgets.Label('Altitude site en m')\n",
    "#alt_site = widgets.FloatText()\n",
    "\n",
    "#vbox1dist = widgets.VBox([Label_dist_met, dist_met, Label_alt_site, alt_site])\n",
    "\n",
    "#vbox3dist = widgets.VBox([Label_alt_met, alt_met])\n",
    "\n",
    "\n",
    "#widgets.HBox([vbox1dist, vbox3dist])#, vbox3, vbox4])"
   ]
  },
  {
   "cell_type": "code",
   "execution_count": 50,
   "metadata": {
    "scrolled": true
   },
   "outputs": [],
   "source": [
    "#nbi:hide_in\n",
    "Label_sem = widgets.Label(\"Numéro de la semaine dans l'année\")\n",
    "sem = widgets.IntText()\n",
    "\n",
    "vbox_date = widgets.VBox([Label_sem, sem])"
   ]
  },
  {
   "cell_type": "code",
   "execution_count": 51,
   "metadata": {},
   "outputs": [
    {
     "data": {
      "application/vnd.jupyter.widget-view+json": {
       "model_id": "7402ed1c75a747c5933be6e4fd2ab59c",
       "version_major": 2,
       "version_minor": 0
      },
      "text/plain": [
       "HBox(children=(VBox(children=(Label(value=\"Numéro de la semaine dans l'année\"), IntText(value=0))), Dropdown(d…"
      ]
     },
     "metadata": {},
     "output_type": "display_data"
    }
   ],
   "source": [
    "#nbi:hide_in\n",
    "jour = widgets.Dropdown(\n",
    "value = 'lundi',\n",
    "options = ['lundi', 'mardi', 'mercredi', 'jeudi', 'vendredi', 'samedi', 'dimanche'],\n",
    "description = 'Jour :'\n",
    ")\n",
    "widgets.HBox([vbox_date, jour])"
   ]
  },
  {
   "cell_type": "code",
   "execution_count": 52,
   "metadata": {},
   "outputs": [],
   "source": [
    "#nbi:hide_in\n",
    "region = widgets.Dropdown(\n",
    "value = 'Auvergne Rhone Alpes',\n",
    "options = [\"Auvergne Rhone Alpes\", \"Normandie\", \"Nouvelle Aquitaine\", \"Occitanie\", \"Pays de la loire\"],\n",
    "description = 'Région :'\n",
    ")"
   ]
  },
  {
   "cell_type": "code",
   "execution_count": 53,
   "metadata": {},
   "outputs": [],
   "source": [
    "#nbi:hide_in\n",
    "#depart = widgets.Dropdown(\n",
    "#value = 'Ain',\n",
    "#options = [\"Ain\", \"Ariege\", \"Cantal\", \"Hte Vienne\", \"Isere\", \"Loire Atlantique\", \"Maine et Loire\", \"Seine Maritime\"],\n",
    "#description = 'Département :'\n",
    "#)"
   ]
  },
  {
   "cell_type": "code",
   "execution_count": 54,
   "metadata": {},
   "outputs": [
    {
     "data": {
      "application/vnd.jupyter.widget-view+json": {
       "model_id": "499abe9238a04cf5abd0073d5da603bd",
       "version_major": 2,
       "version_minor": 0
      },
      "text/plain": [
       "Dropdown(description='Région :', options=('Auvergne Rhone Alpes', 'Normandie', 'Nouvelle Aquitaine', 'Occitani…"
      ]
     },
     "metadata": {},
     "output_type": "display_data"
    }
   ],
   "source": [
    "#nbi:hide_in\n",
    "#widgets.HBox([region, depart])\n",
    "region"
   ]
  },
  {
   "cell_type": "code",
   "execution_count": 55,
   "metadata": {},
   "outputs": [],
   "source": [
    "#nbi:hide_in\n",
    "#saison = widgets.RadioButtons(\n",
    "#value = 'Printemps',\n",
    "#options = ['Printemps', 'Hiver (trouvée après le 01/09)'],\n",
    "#description = 'Saison:'\n",
    "#)"
   ]
  },
  {
   "cell_type": "code",
   "execution_count": 56,
   "metadata": {},
   "outputs": [],
   "source": [
    "#nbi:hide_in\n",
    "#expo_lum = widgets.RadioButtons(\n",
    "#value = 'soleil',\n",
    "#options = [\"soleil\", \"mi_soleil (soleil à partir de 13h-14h)\", \"ombre\"],\n",
    "#description = 'Exposition à la lumière :'\n",
    "#)"
   ]
  },
  {
   "cell_type": "code",
   "execution_count": 57,
   "metadata": {},
   "outputs": [],
   "source": [
    "#nbi:hide_in\n",
    "#expo_vent = widgets.RadioButtons(\n",
    "#value = 'abrite',\n",
    "#options = [\"abrite\", \"mi\", \"vent\"],\n",
    "#description = 'Exposition au vent :'\n",
    "#)"
   ]
  },
  {
   "cell_type": "code",
   "execution_count": 58,
   "metadata": {},
   "outputs": [],
   "source": [
    "#nbi:hide_in\n",
    "#orientation = widgets.RadioButtons(\n",
    "#value = 'Est',\n",
    "#options = [\"Est\",  \"Ouest\",  \"Sud\",  \"Sud-Est\"],\n",
    "#description = \"Orientation de l'entrée de la ruche:\"\n",
    "#)"
   ]
  },
  {
   "cell_type": "code",
   "execution_count": 59,
   "metadata": {},
   "outputs": [],
   "source": [
    "#nbi:hide_in\n",
    "#vbox_ruche1 = widgets.VBox([expo_lum,saison])\n",
    "#vbox_ruche2 = widgets.VBox([expo_vent, orientation])\n",
    "\n",
    "#widgets.HBox([vbox_ruche1, vbox_ruche2])"
   ]
  },
  {
   "cell_type": "code",
   "execution_count": 60,
   "metadata": {},
   "outputs": [],
   "source": [
    "#nbi:hide_in\n",
    "#type_r = widgets.RadioButtons(\n",
    "#value = 'Ruche',\n",
    "#options = ['Ruche', 'Ruchette'],\n",
    "#description = 'Type :'\n",
    "#)"
   ]
  },
  {
   "cell_type": "code",
   "execution_count": 61,
   "metadata": {},
   "outputs": [],
   "source": [
    "#nbi:hide_in\n",
    "#race = widgets.RadioButtons(\n",
    "#value = 'Hybride',\n",
    "#options = ['Hybride', 'Noire'],\n",
    "#description = 'Race abeille :'\n",
    "#)"
   ]
  },
  {
   "cell_type": "code",
   "execution_count": 62,
   "metadata": {},
   "outputs": [],
   "source": [
    "#nbi:hide_in\n",
    "#widgets.HBox([type_r, race])"
   ]
  },
  {
   "cell_type": "code",
   "execution_count": 63,
   "metadata": {},
   "outputs": [],
   "source": [
    "#nbi:hide_in\n",
    "def on_button_clicked1(b):\n",
    "        with output1:\n",
    "            output1.clear_output()\n",
    "            \n",
    "            #dic_race = {'Hybride' : 0, 'Noire' : 1}\n",
    "            #dic_type = {\"Ruche\" : 0, \"Ruchette\" : 1}\n",
    "            #dic_orientation = {\"Est\" : 0,  \"Ouest\" : 1,  \"Sud\" : 2,  \"Sud-Est\" : 3}\n",
    "            #dic_expo_vent = {\"abrite\" : 0, \"mi\" : 1, \"vent\" : 2}\n",
    "            #dic_expo_lum = {\"soleil\" : 2, \"mi_soleil (soleil à partir de 15h)\" : 0, \"ombre\" : 1}\n",
    "            #dic_saison = {'Printemps' : 1, 'Hiver (trouvée après le 01/09)' : 0}\n",
    "            #dic_depart = {\"Ain\" : 0, \"Ariege\" : 1, \"Cantal\" : 2, \"Hte Vienne\" : 3, \"Isere\" : 4, \n",
    "            #              \"Loire Atlantique\" : 5, \"Maine et Loire\" : 6, \"Seine Maritime\" : 7}\n",
    "            dic_region = {\"Auvergne Rhone Alpes\" : 0, \"Normandie\" : 1, \n",
    "                          \"Nouvelle Aquitaine\" : 2, \"Occitanie\" : 3, \"Pays de la loire\" : 4}\n",
    "            dic_jour = {\"lundi\" : 1, \"mardi\" : 2, \"mercredi\" : 3, \"jeudi\" : 4, \"vendredi\" : 5, \"samedi\" : 6, \"dimanche\" : 7}\n",
    "            \n",
    "            \n",
    "            \n",
    "            #name_column = [\"pdsab_calc\", \"saison_exp\", \"expo_lum\", \"expo_vent\", \"orientation\", \"type\", \"race\", \"precipitation\", \n",
    "            #               \"humidite\", \"moy_temp\", \"precipitation_J1\", \"precipitation_J2\", \"precipitation_J3\", \"humidite_J1\", \n",
    "            #               \"humidite_J2\", \"humidite_J3\", \"moy_temp_J1\", \"moy_temp_J2\", \"moy_temp_J3\", \"Departement\", \"Region\", \"meteo_km\", \n",
    "            #               \"alt_meteo_m\", \"alt_site_m\", \"semaine\", \"jour\"]\n",
    "            \n",
    "            name_column = [\"pdsab_calc\", \"precipitation\", \"humidite\", \"moy_temp\", \"precipitation_J1\", \"precipitation_J2\", \n",
    "                           \"precipitation_J3\", \"humidite_J1\", \"humidite_J2\", \"humidite_J3\", \"moy_temp_J1\", \"moy_temp_J2\", \n",
    "                           \"moy_temp_J3\", \"Region\", \"semaine\", \"jour\"]\n",
    "            #list_pred = [[pds_ab.value * 10/3, dic_saison[saison.value], dic_expo_lum[expo_lum.value], dic_expo_vent[expo_vent.value], \n",
    "            #             dic_orientation[orientation.value], dic_type[type_r.value], dic_race[race.value], prec.value, hum.value, \n",
    "            #             temp.value, prec1.value, prec2.value, prec3.value, hum1.value, hum2.value, hum3.value, temp1.value, temp2.value, \n",
    "            #             temp3.value, dic_depart[depart.value], dic_region[region.value], dist_met.value, alt_met.value, alt_site.value, \n",
    "            #             sem.value, dic_jour[jour.value]]]\n",
    "            \n",
    "            list_pred = [[pds_ab.value * 10/3, prec.value, hum.value, temp.value, prec1.value, prec2.value, prec3.value, \n",
    "                          hum1.value, hum2.value, hum3.value, temp1.value, temp2.value, temp3.value, dic_region[region.value],\n",
    "                          sem.value, dic_jour[jour.value]]]\n",
    "            \n",
    "            pred = pd.DataFrame(list_pred, columns = name_column)\n",
    "            \n",
    "            \n",
    "            df = pd.read_csv(\"info_tot_ab.csv\",sep=\";\", decimal = \",\")\n",
    "            df['date'] = pd.to_datetime(df[\"date\"])\n",
    "            df.dropna(inplace=True)\n",
    "            values=[\"semaine1\", \"semaine2\", \"semaine3\", \"semaine4\"]\n",
    "            filtered_df = df[df.semaine.isin(values)]\n",
    "                        \n",
    "            y = filtered_df[\"num_jour\"]\n",
    "            X = filtered_df.copy()\n",
    "\n",
    "            del X[\"num_jour\"]\n",
    "            del X[\"semaine\"]\n",
    "            del X[\"site_lot_nbab\"]\n",
    "            X[\"semaine\"] = X[\"date\"].dt.isocalendar()[\"week\"]\n",
    "            X[\"jour\"] = X[\"date\"].dt.isocalendar()[\"day\"]\n",
    "            del X[\"date\"]\n",
    "            del X[\"nbab\"]\n",
    "            del X[\"cadre\"]\n",
    "            del X[\"cause_mort\"]\n",
    "            del X[\"origine\"]\n",
    "            del X[\"somme_precipitation_7\"]\n",
    "            del X[\"somme_precipitation_3\"]\n",
    "            del X[\"temp_12h\"]\n",
    "            del X[\"lot\"]\n",
    "            del X[\"site\"]\n",
    "            \n",
    "            ####\n",
    "            del X[\"Departement\"]\n",
    "            del X[\"orientation\"]\n",
    "            del X[\"expo_lum\"]\n",
    "            del X[\"alt_meteo_m\"]\n",
    "            del X[\"alt_site_m\"]\n",
    "            del X[\"saison_exp\"]\n",
    "            del X[\"race\"]\n",
    "            del X[\"expo_vent\"]\n",
    "            del X[\"type\"]\n",
    "            del X[\"meteo_km\"]\n",
    "            ####\n",
    "            \n",
    "            #X[\"Departement\"] = pd.Categorical(X[\"Departement\"]).codes\n",
    "            X[\"Region\"] = pd.Categorical(X[\"Region\"]).codes\n",
    "            #X[\"saison_exp\"] = pd.Categorical(X[\"saison_exp\"]).codes\n",
    "            #X[\"expo_lum\"] = pd.Categorical(X[\"expo_lum\"]).codes\n",
    "            #X[\"expo_vent\"] = pd.Categorical(X[\"expo_vent\"]).codes\n",
    "            #X[\"orientation\"] = pd.Categorical(X[\"orientation\"]).codes\n",
    "            #X[\"type\"] = pd.Categorical(X[\"type\"]).codes\n",
    "            #X[\"race\"] = pd.Categorical(X[\"race\"]).codes\n",
    "            \n",
    "            X_train, X_test, y_train, y_test = train_test_split(X, y, test_size=0.33, random_state=0)\n",
    "            dt = DecisionTreeClassifier()\n",
    "            dt.fit(X_train,y_train)\n",
    "            y_predict = dt.predict(X_test)\n",
    "            \n",
    "            print(\"Les abeilles sont mortes il y a environ\", dt.predict(pred)[0], \"jours avec une fiabilité de\", accuracy_score(y_test,y_predict)*100, \"%\")\n",
    "\n",
    "                \n",
    "            Label_res = widgets.Label(\"Les abeilles sont mortes il y a environ \" + str(dt.predict(pred)[0]) + \n",
    "                                  \" jours avec une fiabilité de \" + str(accuracy_score(y_test,y_predict)*100)[0:5]+ \"%\")\n",
    "\n",
    "            display(Label_res.value)\n",
    "            display(Label_res)"
   ]
  },
  {
   "cell_type": "code",
   "execution_count": 65,
   "id": "shared-brazil",
   "metadata": {},
   "outputs": [
    {
     "data": {
      "application/vnd.jupyter.widget-view+json": {
       "model_id": "9828aaa50f3b4ec5972cb4a7e977e90d",
       "version_major": 2,
       "version_minor": 0
      },
      "text/plain": [
       "Button(button_style='success', description='Prédiction', style=ButtonStyle())"
      ]
     },
     "metadata": {},
     "output_type": "display_data"
    },
    {
     "data": {
      "application/vnd.jupyter.widget-view+json": {
       "model_id": "5e339ecea9e3403ead12c230642ef856",
       "version_major": 2,
       "version_minor": 0
      },
      "text/plain": [
       "Output()"
      ]
     },
     "metadata": {},
     "output_type": "display_data"
    }
   ],
   "source": [
    "#nbi:hide_in\n",
    "button1 = widgets.Button(description=\"Prédiction\", button_style='success') # 'success', 'info', 'warning', 'danger' or '')\n",
    "output1 = widgets.Output()\n",
    "display(button1, output1)\n",
    "\n",
    "button1.on_click(on_button_clicked1)"
   ]
  }
 ],
 "metadata": {
  "kernelspec": {
   "display_name": "Python 3",
   "language": "python",
   "name": "python3"
  },
  "language_info": {
   "codemirror_mode": {
    "name": "ipython",
    "version": 3
   },
   "file_extension": ".py",
   "mimetype": "text/x-python",
   "name": "python",
   "nbconvert_exporter": "python",
   "pygments_lexer": "ipython3",
   "version": "3.7.10"
  }
 },
 "nbformat": 4,
 "nbformat_minor": 5
}

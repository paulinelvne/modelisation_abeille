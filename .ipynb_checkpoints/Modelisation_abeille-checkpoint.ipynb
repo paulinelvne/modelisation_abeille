{
 "cells": [
  {
   "cell_type": "code",
   "execution_count": 3,
   "id": "equipped-computer",
   "metadata": {},
   "outputs": [],
   "source": [
    "#nbi:hide_in\n",
    "#nbi:hide_out\n",
    "#!pip3 install sklearn\n",
    "#!pip3 install matplotlib \n",
    "\n",
    "from ipywidgets import interact, interactive, widgets\n",
    "from IPython.display import display, Image\n",
    "import pandas as pd\n",
    "from sklearn.ensemble import RandomForestClassifier\n",
    "from sklearn.model_selection import train_test_split\n",
    "from sklearn.metrics import accuracy_score\n",
    "import matplotlib.image as img\n",
    "import matplotlib.pyplot as plt"
   ]
  },
  {
   "cell_type": "code",
   "execution_count": 4,
   "metadata": {},
   "outputs": [
    {
     "data": {
      "application/vnd.jupyter.widget-view+json": {
       "model_id": "5d350b2d3b3e4ba5865c3992c5003c26",
       "version_major": 2,
       "version_minor": 0
      },
      "text/plain": [
       "VBox(children=(Label(value='Poids 300 abeilles en g'), FloatText(value=0.0)))"
      ]
     },
     "metadata": {},
     "output_type": "display_data"
    }
   ],
   "source": [
    "#nbi:hide_in\n",
    "Label_ab = widgets.Label('Poids 300 abeilles en g')\n",
    "pds_ab = widgets.FloatText()\n",
    "\n",
    "widgets.VBox([Label_ab,pds_ab])"
   ]
  },
  {
   "cell_type": "code",
   "execution_count": 5,
   "metadata": {},
   "outputs": [
    {
     "data": {
      "application/vnd.jupyter.widget-view+json": {
       "model_id": "4e4e2fbea7f84a2a9f1368929d356575",
       "version_major": 2,
       "version_minor": 0
      },
      "text/plain": [
       "HBox(children=(VBox(children=(Label(value='Précipitation en mm'), FloatText(value=0.0), Label(value='Précipita…"
      ]
     },
     "metadata": {},
     "output_type": "display_data"
    }
   ],
   "source": [
    "#nbi:hide_in\n",
    "Label_prec = widgets.Label('Précipitation en mm')\n",
    "prec = widgets.FloatText()\n",
    "\n",
    "Label_prec1 = widgets.Label('Précipitation en mm à J-1')\n",
    "prec1 = widgets.FloatText()\n",
    "\n",
    "Label_prec2 = widgets.Label('Précipitation en mm à J-2')\n",
    "prec2 = widgets.FloatText()\n",
    "\n",
    "Label_prec3 = widgets.Label('Précipitation en mm à J-3')\n",
    "prec3 = widgets.FloatText()\n",
    "\n",
    "vbox1prec = widgets.VBox([Label_prec,prec, Label_prec1,prec1])\n",
    "#vbox2 = widgets.VBox([Label_prec1,prec1])\n",
    "vbox3prec = widgets.VBox([Label_prec2,prec2, Label_prec3,prec3])\n",
    "#vbox4 = widgets.VBox([Label_prec3,prec3])\n",
    "\n",
    "widgets.HBox([vbox1prec, vbox3prec])#, vbox3, vbox4])"
   ]
  },
  {
   "cell_type": "code",
   "execution_count": 6,
   "metadata": {},
   "outputs": [
    {
     "data": {
      "application/vnd.jupyter.widget-view+json": {
       "model_id": "efbe2345be4b49c7bde4dc974286ee1b",
       "version_major": 2,
       "version_minor": 0
      },
      "text/plain": [
       "HBox(children=(VBox(children=(Label(value='Humidité en %'), FloatText(value=0.0), Label(value='Humidité en % à…"
      ]
     },
     "metadata": {},
     "output_type": "display_data"
    }
   ],
   "source": [
    "#nbi:hide_in\n",
    "Label_hum = widgets.Label('Humidité en %')\n",
    "hum = widgets.FloatText()\n",
    "\n",
    "Label_hum1 = widgets.Label('Humidité en % à J-1')\n",
    "hum1 = widgets.FloatText()\n",
    "\n",
    "Label_hum2 = widgets.Label('Humidité en % à J-2')\n",
    "hum2 = widgets.FloatText()\n",
    "\n",
    "Label_hum3 = widgets.Label('Humidité en % à J-3')\n",
    "hum3 = widgets.FloatText()\n",
    "\n",
    "vbox1hum = widgets.VBox([Label_hum, hum, Label_hum1, hum1])\n",
    "#vbox2 = widgets.VBox([Label_prec1,prec1])\n",
    "vbox3hum = widgets.VBox([Label_hum2, hum2, Label_hum3, hum3])\n",
    "#vbox4 = widgets.VBox([Label_prec3,prec3])\n",
    "\n",
    "widgets.HBox([vbox1hum, vbox3hum])#, vbox3, vbox4])"
   ]
  },
  {
   "cell_type": "code",
   "execution_count": 7,
   "metadata": {},
   "outputs": [
    {
     "data": {
      "application/vnd.jupyter.widget-view+json": {
       "model_id": "d6eb0a4c82ae452fb2e863e53de6cd84",
       "version_major": 2,
       "version_minor": 0
      },
      "text/plain": [
       "HBox(children=(VBox(children=(Label(value='Température moyenne en °C'), FloatText(value=0.0), Label(value='Tem…"
      ]
     },
     "metadata": {},
     "output_type": "display_data"
    }
   ],
   "source": [
    "#nbi:hide_in\n",
    "Label_temp = widgets.Label('Température moyenne en °C')\n",
    "temp = widgets.FloatText()\n",
    "\n",
    "Label_temp1 = widgets.Label('Température moyenne en °C à J-1')\n",
    "temp1 = widgets.FloatText()\n",
    "\n",
    "Label_temp2 = widgets.Label('Température moyenne en °C à J-2')\n",
    "temp2 = widgets.FloatText()\n",
    "\n",
    "Label_temp3 = widgets.Label('Température moyenne en °C à J-3')\n",
    "temp3 = widgets.FloatText()\n",
    "\n",
    "vbox1temp = widgets.VBox([Label_temp, temp, Label_temp1, temp1])\n",
    "#vbox2 = widgets.VBox([Label_prec1,prec1])\n",
    "vbox3temp = widgets.VBox([Label_temp2, temp2, Label_temp3, temp3])\n",
    "#vbox4 = widgets.VBox([Label_prec3,prec3])\n",
    "\n",
    "widgets.HBox([vbox1temp, vbox3temp])#, vbox3, vbox4])"
   ]
  },
  {
   "cell_type": "code",
   "execution_count": 8,
   "metadata": {},
   "outputs": [],
   "source": [
    "#nbi:hide_in\n",
    "saison = widgets.RadioButtons(\n",
    "value = 'Printemps',\n",
    "options = ['Printemps', 'Hiver (trouvée après le 01/09)'],\n",
    "description = 'Saison:'\n",
    ")"
   ]
  },
  {
   "cell_type": "code",
   "execution_count": 9,
   "metadata": {},
   "outputs": [],
   "source": [
    "#nbi:hide_in\n",
    "expo_lum = widgets.RadioButtons(\n",
    "value = 'soleil',\n",
    "options = [\"soleil\", \"mi_soleil (soleil à partir de 13h-14h)\", \"ombre\"],\n",
    "description = 'Exposition à la lumière :'\n",
    ")"
   ]
  },
  {
   "cell_type": "code",
   "execution_count": 10,
   "metadata": {},
   "outputs": [],
   "source": [
    "#nbi:hide_in\n",
    "orientation = widgets.RadioButtons(\n",
    "value = 'Est',\n",
    "options = [\"Est\",  \"Ouest\",  \"Sud\",  \"Sud-Est\"],\n",
    "description = \"Orientation de l'entrée de la ruche:\"\n",
    ")"
   ]
  },
  {
   "cell_type": "code",
   "execution_count": 11,
   "metadata": {},
   "outputs": [
    {
     "data": {
      "application/vnd.jupyter.widget-view+json": {
       "model_id": "54aeab060aa549f68159b87b5fc3f219",
       "version_major": 2,
       "version_minor": 0
      },
      "text/plain": [
       "HBox(children=(VBox(children=(RadioButtons(description='Saison:', options=('Printemps', 'Hiver (trouvée après …"
      ]
     },
     "metadata": {},
     "output_type": "display_data"
    }
   ],
   "source": [
    "#nbi:hide_in\n",
    "vbox_ruche1 = widgets.VBox([saison,expo_lum])\n",
    "vbox_ruche2 = widgets.VBox([orientation])\n",
    "\n",
    "widgets.HBox([vbox_ruche1, vbox_ruche2])"
   ]
  },
  {
   "cell_type": "code",
   "execution_count": 12,
   "metadata": {},
   "outputs": [
    {
     "data": {
      "application/vnd.jupyter.widget-view+json": {
       "model_id": "b7236eaefb9d48cebaba205fc042c18e",
       "version_major": 2,
       "version_minor": 0
      },
      "text/plain": [
       "RadioButtons(description='Race abeille :', options=('Hybride', 'Noire'), value='Hybride')"
      ]
     },
     "metadata": {},
     "output_type": "display_data"
    }
   ],
   "source": [
    "#nbi:hide_in\n",
    "race = widgets.RadioButtons(\n",
    "value = 'Hybride',\n",
    "options = ['Hybride', 'Noire'],\n",
    "description = 'Race abeille :'\n",
    ")\n",
    "\n",
    "race"
   ]
  },
  {
   "cell_type": "code",
   "execution_count": 13,
   "metadata": {},
   "outputs": [],
   "source": [
    "#nbi:hide_in\n",
    "def on_button_clicked1(b):\n",
    "        with output1:\n",
    "            output1.clear_output()\n",
    "            \n",
    "            dic_race = {'Hybride' : 0, 'Noire' : 1}\n",
    "            dic_orientation = {\"Est\" : 0,  \"Ouest\" : 1,  \"Sud\" : 2,  \"Sud-Est\" : 3}\n",
    "            dic_expo_lum = {\"soleil\" : 2, \"mi_soleil (soleil à partir de 15h)\" : 0, \"ombre\" : 1}\n",
    "            dic_saison = {'Printemps' : 1, 'Hiver (trouvée après le 01/09)' : 0}\n",
    "            \n",
    "            \n",
    "            name_column = [\"pdsab_calc\", \"saison_exp\", \"expo_lum\", \"orientation\", \"race\", \"precipitation\", \n",
    "                           \"humidite\", \"moy_temp\", \"precipitation_J1\", \"precipitation_J2\", \"precipitation_J3\", \"humidite_J1\", \n",
    "                           \"humidite_J2\", \"humidite_J3\", \"moy_temp_J1\", \"moy_temp_J2\", \"moy_temp_J3\"]\n",
    "            \n",
    "            list_pred = [[pds_ab.value * 10/3, dic_saison[saison.value], dic_expo_lum[expo_lum.value],  \n",
    "                         dic_orientation[orientation.value], dic_race[race.value], prec.value, hum.value, \n",
    "                         temp.value, prec1.value, prec2.value, prec3.value, hum1.value, hum2.value, hum3.value, temp1.value, temp2.value, \n",
    "                         temp3.value]]\n",
    "            \n",
    "            \n",
    "            pred = pd.DataFrame(list_pred, columns = name_column)\n",
    "            \n",
    "            \n",
    "            df = pd.read_csv(\"info_tot_ab.csv\",sep=\";\", decimal = \",\")\n",
    "            df['date'] = pd.to_datetime(df[\"date\"])\n",
    "            df.dropna(inplace=True)\n",
    "            values=[\"semaine1\", \"semaine2\", \"semaine3\", \"semaine4\"]\n",
    "            filtered_df = df[df.semaine.isin(values)]\n",
    "                        \n",
    "            y = filtered_df[\"num_jour\"]\n",
    "            X = filtered_df.copy()\n",
    "\n",
    "            col_sup = [\"num_jour\", \"semaine\", \"site_lot_nbab\", \"date\", \"nbab\" ,\"cadre\", \"cause_mort\", \"origine\", \"lot\", \n",
    "                       \"site\", \"Departement\", \"Region\", \"meteo_km\", \"alt_site_m\", \"alt_meteo_m\", \"somme_precipitation_3\",\n",
    "                       \"somme_precipitation_7\", \"temp_12h\", \"expo_vent\", \"type\"]\n",
    "\n",
    "            for e in col_sup :\n",
    "                del X[e]\n",
    "            \n",
    "            col_categorie = [\"saison_exp\", \"expo_lum\", \"orientation\", \"race\"]\n",
    "\n",
    "            for e in col_categorie :\n",
    "                X[e] = pd.Categorical(X[e]).codes\n",
    "            \n",
    "            \n",
    "            X_train, X_test, y_train, y_test = train_test_split(X, y, test_size=0.33, random_state=0)\n",
    "            df = RandomForestClassifier()\n",
    "            df.fit(X_train, y_train)\n",
    "            y_predict = df.predict(X_test)\n",
    "            acc = accuracy_score(y_test,y_predict)\n",
    "\n",
    "            for i in range(20): \n",
    "                Xs_train, Xs_test, ys_train, ys_test = train_test_split(X, y, test_size=0.33, random_state=0)\n",
    "                dfs = RandomForestClassifier()\n",
    "                dfs.fit(Xs_train, ys_train)\n",
    "                ys_predict = dfs.predict(Xs_test)\n",
    "                accs = accuracy_score(ys_test,ys_predict)\n",
    "\n",
    "                if accs > acc : \n",
    "                    X_train, X_test, y_train, y_test = Xs_train, Xs_test, ys_train, ys_test\n",
    "                    df = dfs\n",
    "                    y_predict = ys_predict\n",
    "                    acc = accs\n",
    "                    \n",
    "            \n",
    "            print(\"Les abeilles sont mortes il y a environ\", df.predict(pred)[0], \"jours avec une fiabilité de\", \n",
    "                  str(accuracy_score(y_test,y_predict)*100)[0:5], \"%\")\n",
    "\n",
    "            \n",
    "            display(Image(filename='Courbe_ML.png'))"
   ]
  },
  {
   "cell_type": "code",
   "execution_count": 14,
   "id": "shared-brazil",
   "metadata": {},
   "outputs": [
    {
     "data": {
      "application/vnd.jupyter.widget-view+json": {
       "model_id": "ebfa485c328b435e9d815af8e296ecc4",
       "version_major": 2,
       "version_minor": 0
      },
      "text/plain": [
       "Button(button_style='success', description='Prédiction', style=ButtonStyle())"
      ]
     },
     "metadata": {},
     "output_type": "display_data"
    },
    {
     "data": {
      "application/vnd.jupyter.widget-view+json": {
       "model_id": "c7e9569c772448f0802283d69519ad40",
       "version_major": 2,
       "version_minor": 0
      },
      "text/plain": [
       "Output()"
      ]
     },
     "metadata": {},
     "output_type": "display_data"
    }
   ],
   "source": [
    "#nbi:hide_in\n",
    "button1 = widgets.Button(description=\"Prédiction\", button_style='success') # 'success', 'info', 'warning', 'danger' or '')\n",
    "output1 = widgets.Output()\n",
    "display(button1, output1)\n",
    "\n",
    "button1.on_click(on_button_clicked1)"
   ]
  }
 ],
 "metadata": {
  "kernelspec": {
   "display_name": "Python 3",
   "language": "python",
   "name": "python3"
  },
  "language_info": {
   "codemirror_mode": {
    "name": "ipython",
    "version": 3
   },
   "file_extension": ".py",
   "mimetype": "text/x-python",
   "name": "python",
   "nbconvert_exporter": "python",
   "pygments_lexer": "ipython3",
   "version": "3.7.10"
  }
 },
 "nbformat": 4,
 "nbformat_minor": 5
}

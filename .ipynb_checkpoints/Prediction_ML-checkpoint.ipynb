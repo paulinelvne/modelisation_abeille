{
 "cells": [
  {
   "cell_type": "markdown",
   "metadata": {},
   "source": [
    "# Prédiction du jour post mortem d'une abeille avec un modèle linéaire"
   ]
  },
  {
   "cell_type": "code",
   "execution_count": 1,
   "metadata": {},
   "outputs": [],
   "source": [
    "#nbi:hide_in\n",
    "#nbi:hide_out\n",
    "\n",
    "from ipywidgets import widgets\n",
    "from IPython.display import display, Image\n",
    "import pandas as pd"
   ]
  },
  {
   "cell_type": "code",
   "execution_count": 2,
   "metadata": {},
   "outputs": [
    {
     "data": {
      "application/vnd.jupyter.widget-view+json": {
       "model_id": "5a5183a721004973b3019d5a0248519f",
       "version_major": 2,
       "version_minor": 0
      },
      "text/plain": [
       "VBox(children=(Label(value='Poids 300 abeilles en g'), FloatText(value=0.0)))"
      ]
     },
     "metadata": {},
     "output_type": "display_data"
    }
   ],
   "source": [
    "#nbi:hide_in\n",
    "Label_ab = widgets.Label('Poids 300 abeilles en g')\n",
    "pds_ab = widgets.FloatText()\n",
    "\n",
    "widgets.VBox([Label_ab,pds_ab])"
   ]
  },
  {
   "cell_type": "code",
   "execution_count": 3,
   "metadata": {},
   "outputs": [],
   "source": [
    "#nbi:hide_in\n",
    "saison = widgets.RadioButtons(\n",
    "value = 'printemps',\n",
    "options = ['printemps', 'hiver'],\n",
    "description = 'Saison :'\n",
    ")"
   ]
  },
  {
   "cell_type": "code",
   "execution_count": 4,
   "metadata": {},
   "outputs": [],
   "source": [
    "#nbi:hide_in\n",
    "race = widgets.RadioButtons(\n",
    "value = 'hybride',\n",
    "options = ['hybride', 'noire'],\n",
    "description = 'Race abeille :'\n",
    ")"
   ]
  },
  {
   "cell_type": "code",
   "execution_count": 5,
   "metadata": {},
   "outputs": [
    {
     "data": {
      "application/vnd.jupyter.widget-view+json": {
       "model_id": "5857307a3c9046079ad29711956ecf77",
       "version_major": 2,
       "version_minor": 0
      },
      "text/plain": [
       "VBox(children=(Label(value=\"Les abeilles d'hiver sont les abeilles retrouvées après le 01/09\"), HBox(children=…"
      ]
     },
     "metadata": {},
     "output_type": "display_data"
    }
   ],
   "source": [
    "#nbi:hide_in\n",
    "Label = widgets.Label(\"Les abeilles d'hiver sont les abeilles retrouvées après le 01/09\")\n",
    "h = widgets.HBox([race, saison])\n",
    "widgets.VBox([Label, h])"
   ]
  },
  {
   "cell_type": "code",
   "execution_count": 9,
   "metadata": {},
   "outputs": [],
   "source": [
    "#nbi:hide_in\n",
    "def pred_num_jour(pds, race, saison):\n",
    "    data_nom = \"ML/Donnee/\" + saison + \"_\" + race + \"_ML\" + \".csv\"\n",
    "    data = pd.read_csv(data_nom, sep=\";\", decimal = \",\")\n",
    "    \n",
    "    for i,p in enumerate(data[\"pdsab_calc\"]):\n",
    "        if pds > p :\n",
    "            if i == 0 :\n",
    "                return \"Les abeilles sont mortes entre hier et aujourd'hui\"\n",
    "            \n",
    "            else :\n",
    "                dist_j = pds - p \n",
    "                dist_j1 = data[\"pdsab_calc\"][i-1] - pds\n",
    "                \n",
    "                if dist_j <= dist_j1 :\n",
    "                    return \"Les abeilles sont mortes depuis \" + str(data[\"num_jour\"][i]) + \" jours\"\n",
    "                \n",
    "                else :\n",
    "                    return \"Les abeilles sont mortes depuis \" + str(data[\"num_jour\"][i-1]) + \" jours\"\n",
    "                \n",
    "    return \"Les abeilles sont mortes il y a plus de 30 jours\""
   ]
  },
  {
   "cell_type": "code",
   "execution_count": 10,
   "metadata": {},
   "outputs": [],
   "source": [
    "#nbi:hide_in\n",
    "def on_button_clicked1(b):\n",
    "    with output1:\n",
    "        output1.clear_output()\n",
    "        res = pred_num_jour(pds_ab.value * 10/3, race.value, saison.value)\n",
    "        print(res)\n",
    "        \n",
    "        image_nom = \"ML/Courbe/\" + saison.value + \"_\" + race.value + \"_ML\"+ \".png\"\n",
    "        display(Image(filename=image_nom))\n",
    "            \n"
   ]
  },
  {
   "cell_type": "code",
   "execution_count": 11,
   "metadata": {},
   "outputs": [
    {
     "data": {
      "application/vnd.jupyter.widget-view+json": {
       "model_id": "cdd041ea77a64a5f8554c79f6f4b7b09",
       "version_major": 2,
       "version_minor": 0
      },
      "text/plain": [
       "Button(button_style='success', description='Prédiction', style=ButtonStyle())"
      ]
     },
     "metadata": {},
     "output_type": "display_data"
    },
    {
     "data": {
      "application/vnd.jupyter.widget-view+json": {
       "model_id": "8d2b3d3087da43e4be9297cbfe491eb2",
       "version_major": 2,
       "version_minor": 0
      },
      "text/plain": [
       "Output()"
      ]
     },
     "metadata": {},
     "output_type": "display_data"
    }
   ],
   "source": [
    "#nbi:hide_in\n",
    "button1 = widgets.Button(description=\"Prédiction\", button_style='success') # 'success', 'info', 'warning', 'danger' or '')\n",
    "output1 = widgets.Output()\n",
    "display(button1, output1)\n",
    "\n",
    "button1.on_click(on_button_clicked1)"
   ]
  }
 ],
 "metadata": {
  "kernelspec": {
   "display_name": "Python 3",
   "language": "python",
   "name": "python3"
  },
  "language_info": {
   "codemirror_mode": {
    "name": "ipython",
    "version": 3
   },
   "file_extension": ".py",
   "mimetype": "text/x-python",
   "name": "python",
   "nbconvert_exporter": "python",
   "pygments_lexer": "ipython3",
   "version": "3.7.10"
  }
 },
 "nbformat": 4,
 "nbformat_minor": 2
}

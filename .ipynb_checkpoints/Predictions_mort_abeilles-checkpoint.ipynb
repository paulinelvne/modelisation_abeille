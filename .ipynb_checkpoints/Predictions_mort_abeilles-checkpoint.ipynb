{
 "cells": [
  {
   "cell_type": "markdown",
   "metadata": {},
   "source": [
    "# Chargement des données"
   ]
  },
  {
   "cell_type": "code",
   "execution_count": 21,
   "metadata": {},
   "outputs": [
    {
     "name": "stdout",
     "output_type": "stream",
     "text": [
      "Collecting sklearn\n",
      "  Using cached sklearn-0.0-py2.py3-none-any.whl\n",
      "Collecting scikit-learn\n",
      "  Using cached scikit_learn-0.24.2-cp37-cp37m-manylinux2010_x86_64.whl (22.3 MB)\n",
      "Collecting scipy>=0.19.1\n",
      "  Using cached scipy-1.7.1-cp37-cp37m-manylinux_2_5_x86_64.manylinux1_x86_64.whl (28.5 MB)\n",
      "Requirement already satisfied: numpy>=1.13.3 in /srv/conda/envs/notebook/lib/python3.7/site-packages (from scikit-learn->sklearn) (1.21.2)\n",
      "Collecting threadpoolctl>=2.0.0\n",
      "  Using cached threadpoolctl-2.2.0-py3-none-any.whl (12 kB)\n",
      "Collecting joblib>=0.11\n",
      "  Using cached joblib-1.0.1-py3-none-any.whl (303 kB)\n",
      "Installing collected packages: threadpoolctl, scipy, joblib, scikit-learn, sklearn\n",
      "Successfully installed joblib-1.0.1 scikit-learn-0.24.2 scipy-1.7.1 sklearn-0.0 threadpoolctl-2.2.0\n"
     ]
    }
   ],
   "source": [
    "#nbi:hide_in\n",
    "#nbi:hide_out\n",
    "\n",
    "from ipywidgets import widgets\n",
    "from IPython.display import display, Image\n",
    "import pandas as pd\n",
    "\n",
    "!pip3 install sklearn\n",
    "\n",
    "from sklearn.ensemble import RandomForestClassifier\n",
    "from sklearn.model_selection import train_test_split\n",
    "from sklearn.metrics import accuracy_score"
   ]
  },
  {
   "cell_type": "code",
   "execution_count": 2,
   "metadata": {},
   "outputs": [],
   "source": [
    "#nbi:hide_in\n",
    "Label_ab = widgets.Label('Poids 300 abeilles en g')\n",
    "pds_ab = widgets.FloatText()"
   ]
  },
  {
   "cell_type": "code",
   "execution_count": 3,
   "metadata": {},
   "outputs": [
    {
     "data": {
      "application/vnd.jupyter.widget-view+json": {
       "model_id": "ee5cb3ed534c4f01b7a1c77ab8d9592d",
       "version_major": 2,
       "version_minor": 0
      },
      "text/plain": [
       "VBox(children=(Label(value='Poids 300 abeilles en g'), HBox(children=(FloatText(value=0.0), Output()))))"
      ]
     },
     "metadata": {},
     "output_type": "display_data"
    }
   ],
   "source": [
    "#nbi:hide_in\n",
    "def f(a):\n",
    "    print(\"Le poids moyen d'une abeilles est de \" + str(round(a*10/3, 1)) + \" mg\")\n",
    "\n",
    "out = widgets.interactive_output(f, {'a': pds_ab})\n",
    "\n",
    "p_ab = widgets.HBox([pds_ab, out])\n",
    "widgets.VBox([Label_ab, p_ab])"
   ]
  },
  {
   "cell_type": "code",
   "execution_count": 4,
   "metadata": {},
   "outputs": [],
   "source": [
    "#nbi:hide_in\n",
    "saison = widgets.RadioButtons(\n",
    "value = 'printemps',\n",
    "options = ['printemps', 'hiver'],\n",
    "description = 'Saison :'\n",
    ")"
   ]
  },
  {
   "cell_type": "code",
   "execution_count": 5,
   "metadata": {},
   "outputs": [],
   "source": [
    "#nbi:hide_in\n",
    "race = widgets.RadioButtons(\n",
    "value = 'hybride',\n",
    "options = ['hybride', 'noire'],\n",
    "description = 'Race abeille :'\n",
    ")"
   ]
  },
  {
   "cell_type": "code",
   "execution_count": 6,
   "metadata": {},
   "outputs": [
    {
     "data": {
      "application/vnd.jupyter.widget-view+json": {
       "model_id": "aeda3a82777047429eb03bdbf1fb738c",
       "version_major": 2,
       "version_minor": 0
      },
      "text/plain": [
       "VBox(children=(Label(value=\"Les abeilles d'hiver sont les abeilles retrouvées après le 01/09\"), HBox(children=…"
      ]
     },
     "metadata": {},
     "output_type": "display_data"
    }
   ],
   "source": [
    "#nbi:hide_in\n",
    "Label = widgets.Label(\"Les abeilles d'hiver sont les abeilles retrouvées après le 01/09\")\n",
    "h = widgets.HBox([race, saison])\n",
    "widgets.VBox([Label, h])"
   ]
  },
  {
   "cell_type": "markdown",
   "metadata": {},
   "source": [
    "# Prédiction du jour post mortem d'une abeille avec un modèle linéaire"
   ]
  },
  {
   "cell_type": "code",
   "execution_count": 7,
   "metadata": {},
   "outputs": [],
   "source": [
    "#nbi:hide_in\n",
    "def pred_num_jour_ML(pds, race, saison):\n",
    "    data_nom = \"ML/Donnee/\" + saison + \"_\" + race + \"_ML\" + \".csv\"\n",
    "    data = pd.read_csv(data_nom, sep=\";\", decimal = \",\")\n",
    "    \n",
    "    for i,p in enumerate(data[\"pdsab_calc\"]):\n",
    "        if pds > p :\n",
    "            if i == 0 :\n",
    "                return \"Les abeilles sont mortes entre hier et aujourd'hui\"\n",
    "            \n",
    "            else :\n",
    "                dist_j = pds - p \n",
    "                dist_j1 = data[\"pdsab_calc\"][i-1] - pds\n",
    "                \n",
    "                if dist_j <= dist_j1 :\n",
    "                    return \"Les abeilles sont mortes depuis \" + str(data[\"num_jour\"][i]) + \" jours\"\n",
    "                \n",
    "                else :\n",
    "                    return \"Les abeilles sont mortes depuis \" + str(data[\"num_jour\"][i-1]) + \" jours\"\n",
    "                \n",
    "    return \"Les abeilles sont mortes il y a plus de 30 jours\""
   ]
  },
  {
   "cell_type": "code",
   "execution_count": 8,
   "metadata": {},
   "outputs": [],
   "source": [
    "#nbi:hide_in\n",
    "def on_button_clicked1(b):\n",
    "    with output1:\n",
    "        output1.clear_output()\n",
    "        res = pred_num_jour_ML(pds_ab.value * 10/3, race.value, saison.value)\n",
    "        print(res)\n",
    "        \n",
    "        image_nom = \"ML/Courbe/\" + saison.value + \"_\" + race.value + \"_ML\"+ \".png\"\n",
    "        display(Image(filename=image_nom))\n",
    "            \n"
   ]
  },
  {
   "cell_type": "code",
   "execution_count": 10,
   "metadata": {},
   "outputs": [
    {
     "data": {
      "application/vnd.jupyter.widget-view+json": {
       "model_id": "7f69d89148d74fad92a8259a4004410d",
       "version_major": 2,
       "version_minor": 0
      },
      "text/plain": [
       "Button(button_style='success', description='Prédiction ML', style=ButtonStyle())"
      ]
     },
     "metadata": {},
     "output_type": "display_data"
    },
    {
     "data": {
      "application/vnd.jupyter.widget-view+json": {
       "model_id": "503751304eba434183ffb6490d90efaa",
       "version_major": 2,
       "version_minor": 0
      },
      "text/plain": [
       "Output()"
      ]
     },
     "metadata": {},
     "output_type": "display_data"
    }
   ],
   "source": [
    "#nbi:hide_in\n",
    "button1 = widgets.Button(description=\"Prédiction ML\", button_style='success') # 'success', 'info', 'warning', 'danger' or '')\n",
    "output1 = widgets.Output()\n",
    "display(button1, output1)\n",
    "\n",
    "button1.on_click(on_button_clicked1)"
   ]
  },
  {
   "cell_type": "markdown",
   "metadata": {},
   "source": [
    "# Prédiction du jour post mortem d'une abeille avec un modèle non linéaire"
   ]
  },
  {
   "cell_type": "code",
   "execution_count": 11,
   "metadata": {},
   "outputs": [],
   "source": [
    "#nbi:hide_in\n",
    "def pred_num_jour_MNL(pds, race, saison):\n",
    "    data_nom = \"MNL/Donnee/\" + saison + \"_\" + race + \"_MNL\" + \".csv\"\n",
    "    data = pd.read_csv(data_nom, sep=\";\", decimal = \",\")\n",
    "    \n",
    "    for i,p in enumerate(data[\"pdsab_calc\"]):\n",
    "        if pds > p :\n",
    "            if i == 0 :\n",
    "                return \"Les abeilles sont mortes entre hier et aujourd'hui\"\n",
    "            \n",
    "            else :\n",
    "                dist_j = pds - p \n",
    "                dist_j1 = data[\"pdsab_calc\"][i-1] - pds\n",
    "                \n",
    "                if dist_j <= dist_j1 :\n",
    "                    return \"Les abeilles sont mortes depuis \" + str(data[\"num_jour\"][i]) + \" jours\"\n",
    "                \n",
    "                else :\n",
    "                    return \"Les abeilles sont mortes depuis \" + str(data[\"num_jour\"][i-1]) + \" jours\"\n",
    "                \n",
    "    return \"Les abeilles sont mortes il y a plus de 30 jours\""
   ]
  },
  {
   "cell_type": "code",
   "execution_count": 12,
   "metadata": {},
   "outputs": [],
   "source": [
    "#nbi:hide_in\n",
    "def on_button_clicked2(b):\n",
    "    with output2:\n",
    "        output2.clear_output()\n",
    "        res = pred_num_jour_MNL(pds_ab.value * 10/3, race.value, saison.value)\n",
    "        print(res)\n",
    "        \n",
    "        image_nom = \"MNL/Courbe/\" + saison.value + \"_\" + race.value + \"_MNL\"+ \".png\"\n",
    "        display(Image(filename=image_nom))\n",
    "            \n"
   ]
  },
  {
   "cell_type": "code",
   "execution_count": 13,
   "metadata": {},
   "outputs": [
    {
     "data": {
      "application/vnd.jupyter.widget-view+json": {
       "model_id": "d59072e273a44122afdbe110c14bc91f",
       "version_major": 2,
       "version_minor": 0
      },
      "text/plain": [
       "Button(button_style='info', description='Prédiction MNL', style=ButtonStyle())"
      ]
     },
     "metadata": {},
     "output_type": "display_data"
    },
    {
     "data": {
      "application/vnd.jupyter.widget-view+json": {
       "model_id": "537cb9a8ca3a493889f68b21f3fd485a",
       "version_major": 2,
       "version_minor": 0
      },
      "text/plain": [
       "Output()"
      ]
     },
     "metadata": {},
     "output_type": "display_data"
    }
   ],
   "source": [
    "#nbi:hide_in\n",
    "button2 = widgets.Button(description=\"Prédiction MNL\", button_style='info') # 'success', 'info', 'warning', 'danger' or '')\n",
    "output2 = widgets.Output()\n",
    "display(button2, output2)\n",
    "\n",
    "button2.on_click(on_button_clicked2)"
   ]
  },
  {
   "cell_type": "markdown",
   "metadata": {},
   "source": [
    "# Prédiction du jour post mortem d'une abeille par classification"
   ]
  },
  {
   "cell_type": "code",
   "execution_count": 14,
   "metadata": {},
   "outputs": [],
   "source": [
    "#nbi:hide_in\n",
    "Label_prec = widgets.Label('Précipitation en mm')\n",
    "prec = widgets.FloatText()\n",
    "\n",
    "vbox1prec = widgets.VBox([Label_prec,prec])"
   ]
  },
  {
   "cell_type": "code",
   "execution_count": 15,
   "metadata": {},
   "outputs": [],
   "source": [
    "#nbi:hide_in\n",
    "Label_hum = widgets.Label('Humidité en %')\n",
    "hum = widgets.FloatText()\n",
    "\n",
    "vbox1hum = widgets.VBox([Label_hum, hum])"
   ]
  },
  {
   "cell_type": "code",
   "execution_count": 16,
   "metadata": {},
   "outputs": [],
   "source": [
    "#nbi:hide_in\n",
    "Label_temp = widgets.Label('Température moyenne en °C')\n",
    "temp = widgets.FloatText()\n",
    "\n",
    "vbox1temp = widgets.VBox([Label_temp, temp])"
   ]
  },
  {
   "cell_type": "code",
   "execution_count": 17,
   "metadata": {},
   "outputs": [
    {
     "data": {
      "application/vnd.jupyter.widget-view+json": {
       "model_id": "83cc0332c40f4b9fa989c704eb708b40",
       "version_major": 2,
       "version_minor": 0
      },
      "text/plain": [
       "VBox(children=(VBox(children=(Label(value='Précipitation en mm'), FloatText(value=0.0))), VBox(children=(Label…"
      ]
     },
     "metadata": {},
     "output_type": "display_data"
    }
   ],
   "source": [
    "#nbi:hide_in\n",
    "widgets.VBox([vbox1prec, vbox1hum, vbox1temp])"
   ]
  },
  {
   "cell_type": "code",
   "execution_count": 18,
   "metadata": {},
   "outputs": [],
   "source": [
    "#nbi:hide_in\n",
    "def pred_num_jour_DT(pds, race, saison, precipitation, humidite, temperature):\n",
    "    dic_race = {'hybride' : 0, 'noire' : 1}\n",
    "    dic_saison = {'printemps' : 1, 'hiver' : 0}\n",
    "            \n",
    "            \n",
    "    name_column = [\"pdsab_calc\", \"saison_exp\", \"race\", \"precipitation\", \"humidite\", \"moy_temp\"]\n",
    "            \n",
    "    list_pred = [[pds, dic_saison[saison], dic_race[race], precipitation, humidite, temperature]]\n",
    "            \n",
    "            \n",
    "    pred = pd.DataFrame(list_pred, columns = name_column)\n",
    "            \n",
    "            \n",
    "    df = pd.read_csv(\"info_tot_ab_3.csv\",sep=\";\", decimal = \",\")\n",
    "    df.dropna(inplace=True)\n",
    "    values=[\"semaine1\", \"semaine2\", \"semaine3\", \"semaine4\"]\n",
    "    filtered_df = df[df.semaine.isin(values)]\n",
    "                        \n",
    "    y = filtered_df[\"jour\"]\n",
    "    X = filtered_df.copy()\n",
    "\n",
    "    col_sup = [\"num_jour\", \"semaine\", \"site_lot_nbab\", \"date\", \"nbab\" ,\"cadre\", \"cause_mort\", \"origine\", \"lot\", \n",
    "           \"site\", \"Departement\", \"Region\", \"meteo_km\", \"alt_site_m\", \"alt_meteo_m\", \"somme_precipitation_3\",\n",
    "           \"somme_precipitation_7\", \"temp_12h\", \"expo_vent\", \"type\", \"orientation\", \"humidite_J1\", \"humidite_J2\", \n",
    "           \"humidite_J3\", \"moy_temp_J1\", \"moy_temp_J2\", \"moy_temp_J3\", \"precipitation_J1\", \"precipitation_J2\", \n",
    "           \"precipitation_J3\", \"jour\", 'expo_lum']\n",
    "\n",
    "    for e in col_sup :\n",
    "        del X[e]\n",
    "            \n",
    "    col_categorie = [\"saison_exp\", \"race\"]\n",
    "\n",
    "    for e in col_categorie :\n",
    "        X[e] = pd.Categorical(X[e]).codes\n",
    "            \n",
    "    X_train, X_test, y_train, y_test = train_test_split(X, y, test_size=0.33, random_state=0)\n",
    "    dfo = RandomForestClassifier(criterion=\"gini\", n_estimators=15, max_depth=10)\n",
    "    dfo.fit(X_train, y_train)\n",
    "    y_predict2 = dfo.predict(X_test)\n",
    "    acc = accuracy_score(y_test,y_predict2)\n",
    "\n",
    "    for i in range(50): \n",
    "        Xs_train, Xs_test, ys_train, ys_test = train_test_split(X, y, test_size=0.33, random_state=0)\n",
    "        dfs = RandomForestClassifier(criterion=\"gini\", n_estimators=15, max_depth=10)\n",
    "        dfs.fit(Xs_train, ys_train)\n",
    "        ys_predict2 = dfs.predict(Xs_test)\n",
    "        accs = accuracy_score(ys_test,ys_predict2)\n",
    "\n",
    "    if accs > acc : \n",
    "        X_train, X_test, y_train, y_test = Xs_train, Xs_test, ys_train, ys_test\n",
    "        dfo = dfs\n",
    "        y_predict2 = ys_predict2\n",
    "        acc = accs\n",
    "     \n",
    "    return(\"Les abeilles sont mortes il y a environ \" + str(dfo.predict(pred)[0]) + \" jours avec une fiabilité de \" + \n",
    "                  str(accuracy_score(y_test,y_predict2)*100)[0:5] + \" %\")"
   ]
  },
  {
   "cell_type": "code",
   "execution_count": 19,
   "metadata": {},
   "outputs": [],
   "source": [
    "#nbi:hide_in\n",
    "def on_button_clicked3(b):\n",
    "        with output3:\n",
    "            output3.clear_output()\n",
    "            res = pred_num_jour_DT(pds_ab.value * 10/3, race.value, saison.value, prec.value, hum.value, \n",
    "                                temp.value)\n",
    "            print(res)\n",
    "\n",
    "            image_nom = \"ML/Courbe/\" + saison.value + \"_\" + race.value + \"_ML\"+ \".png\"\n",
    "            display(Image(filename=image_nom))"
   ]
  },
  {
   "cell_type": "code",
   "execution_count": 20,
   "metadata": {},
   "outputs": [
    {
     "data": {
      "application/vnd.jupyter.widget-view+json": {
       "model_id": "a24980ea56c7404690de2ff5b071c789",
       "version_major": 2,
       "version_minor": 0
      },
      "text/plain": [
       "Button(button_style='warning', description='Prédiction', style=ButtonStyle())"
      ]
     },
     "metadata": {},
     "output_type": "display_data"
    },
    {
     "data": {
      "application/vnd.jupyter.widget-view+json": {
       "model_id": "ae767636183a4eb29b4a0d86b37bb64c",
       "version_major": 2,
       "version_minor": 0
      },
      "text/plain": [
       "Output()"
      ]
     },
     "metadata": {},
     "output_type": "display_data"
    }
   ],
   "source": [
    "#nbi:hide_in\n",
    "button3 = widgets.Button(description=\"Prédiction\", button_style='warning') # 'success', 'info', 'warning', 'danger' or '')\n",
    "output3 = widgets.Output()\n",
    "display(button3, output3)\n",
    "\n",
    "button3.on_click(on_button_clicked3)"
   ]
  }
 ],
 "metadata": {
  "kernelspec": {
   "display_name": "Python 3",
   "language": "python",
   "name": "python3"
  },
  "language_info": {
   "codemirror_mode": {
    "name": "ipython",
    "version": 3
   },
   "file_extension": ".py",
   "mimetype": "text/x-python",
   "name": "python",
   "nbconvert_exporter": "python",
   "pygments_lexer": "ipython3",
   "version": "3.7.10"
  }
 },
 "nbformat": 4,
 "nbformat_minor": 2
}

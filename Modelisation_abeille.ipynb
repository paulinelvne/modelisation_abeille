{
 "cells": [
  {
   "cell_type": "code",
   "execution_count": 2,
   "id": "equipped-computer",
   "metadata": {},
   "outputs": [],
   "source": [
    "#nbi:hide_in\n",
    "#nbi:hide_out\n",
    "!pip3 install sklearn\n",
    "\n",
    "from ipywidgets import interact, interactive, widgets\n",
    "from IPython.display import display\n",
    "import pandas as pd\n",
    "from sklearn.tree import DecisionTreeClassifier\n",
    "from sklearn.model_selection import train_test_split\n",
    "from sklearn.metrics import accuracy_score\n",
    "#import numpy as np"
   ]
  },
  {
   "cell_type": "code",
   "execution_count": 3,
   "metadata": {},
   "outputs": [
    {
     "data": {
      "application/vnd.jupyter.widget-view+json": {
       "model_id": "cbe48672fa7b41f0bf1e4d9121da6f8d",
       "version_major": 2,
       "version_minor": 0
      },
      "text/plain": [
       "VBox(children=(Label(value='Poids abeille en mg'), FloatText(value=0.0)))"
      ]
     },
     "metadata": {},
     "output_type": "display_data"
    }
   ],
   "source": [
    "#nbi:hide_in\n",
    "Label_ab = widgets.Label('Poids abeille en mg')\n",
    "pds_ab = widgets.FloatText()\n",
    "\n",
    "widgets.VBox([Label_ab,pds_ab])"
   ]
  },
  {
   "cell_type": "code",
   "execution_count": 4,
   "metadata": {},
   "outputs": [
    {
     "data": {
      "application/vnd.jupyter.widget-view+json": {
       "model_id": "7d42e5919f964cbdbf9445fd07b27ce8",
       "version_major": 2,
       "version_minor": 0
      },
      "text/plain": [
       "HBox(children=(VBox(children=(Label(value='Précipitation en mm'), FloatText(value=0.0), Label(value='Précipita…"
      ]
     },
     "metadata": {},
     "output_type": "display_data"
    }
   ],
   "source": [
    "#nbi:hide_in\n",
    "Label_prec = widgets.Label('Précipitation en mm')\n",
    "prec = widgets.FloatText()\n",
    "\n",
    "Label_prec1 = widgets.Label('Précipitation en mm à J-1')\n",
    "prec1 = widgets.FloatText()\n",
    "\n",
    "Label_prec2 = widgets.Label('Précipitation en mm à J-2')\n",
    "prec2 = widgets.FloatText()\n",
    "\n",
    "Label_prec3 = widgets.Label('Précipitation en mm à J-3')\n",
    "prec3 = widgets.FloatText()\n",
    "\n",
    "vbox1prec = widgets.VBox([Label_prec,prec, Label_prec1,prec1])\n",
    "#vbox2 = widgets.VBox([Label_prec1,prec1])\n",
    "vbox3prec = widgets.VBox([Label_prec2,prec2, Label_prec3,prec3])\n",
    "#vbox4 = widgets.VBox([Label_prec3,prec3])\n",
    "\n",
    "widgets.HBox([vbox1prec, vbox3prec])#, vbox3, vbox4])"
   ]
  },
  {
   "cell_type": "code",
   "execution_count": 5,
   "metadata": {},
   "outputs": [
    {
     "data": {
      "application/vnd.jupyter.widget-view+json": {
       "model_id": "200f50c9e4934a6d96b95a351f6a6869",
       "version_major": 2,
       "version_minor": 0
      },
      "text/plain": [
       "HBox(children=(VBox(children=(Label(value='Humidité en %'), FloatText(value=0.0), Label(value='Humidité en % à…"
      ]
     },
     "metadata": {},
     "output_type": "display_data"
    }
   ],
   "source": [
    "#nbi:hide_in\n",
    "Label_hum = widgets.Label('Humidité en %')\n",
    "hum = widgets.FloatText()\n",
    "\n",
    "Label_hum1 = widgets.Label('Humidité en % à J-1')\n",
    "hum1 = widgets.FloatText()\n",
    "\n",
    "Label_hum2 = widgets.Label('Humidité en % à J-2')\n",
    "hum2 = widgets.FloatText()\n",
    "\n",
    "Label_hum3 = widgets.Label('Humidité en % à J-3')\n",
    "hum3 = widgets.FloatText()\n",
    "\n",
    "vbox1hum = widgets.VBox([Label_hum, hum, Label_hum1, hum1])\n",
    "#vbox2 = widgets.VBox([Label_prec1,prec1])\n",
    "vbox3hum = widgets.VBox([Label_hum2, hum2, Label_hum3, hum3])\n",
    "#vbox4 = widgets.VBox([Label_prec3,prec3])\n",
    "\n",
    "widgets.HBox([vbox1hum, vbox3hum])#, vbox3, vbox4])"
   ]
  },
  {
   "cell_type": "code",
   "execution_count": 6,
   "metadata": {},
   "outputs": [
    {
     "data": {
      "application/vnd.jupyter.widget-view+json": {
       "model_id": "74898542129f4d4694b380963d213abf",
       "version_major": 2,
       "version_minor": 0
      },
      "text/plain": [
       "HBox(children=(VBox(children=(Label(value='Température moyenne en °C'), FloatText(value=0.0), Label(value='Tem…"
      ]
     },
     "metadata": {},
     "output_type": "display_data"
    }
   ],
   "source": [
    "#nbi:hide_in\n",
    "Label_temp = widgets.Label('Température moyenne en °C')\n",
    "temp = widgets.FloatText()\n",
    "\n",
    "Label_temp1 = widgets.Label('Température moyenne en °C à J-1')\n",
    "temp1 = widgets.FloatText()\n",
    "\n",
    "Label_temp2 = widgets.Label('Température moyenne en °C à J-2')\n",
    "temp2 = widgets.FloatText()\n",
    "\n",
    "Label_temp3 = widgets.Label('Température moyenne en °C à J-3')\n",
    "temp3 = widgets.FloatText()\n",
    "\n",
    "vbox1temp = widgets.VBox([Label_temp, temp, Label_temp1, temp1])\n",
    "#vbox2 = widgets.VBox([Label_prec1,prec1])\n",
    "vbox3temp = widgets.VBox([Label_temp2, temp2, Label_temp3, temp3])\n",
    "#vbox4 = widgets.VBox([Label_prec3,prec3])\n",
    "\n",
    "widgets.HBox([vbox1temp, vbox3temp])#, vbox3, vbox4])"
   ]
  },
  {
   "cell_type": "code",
   "execution_count": 7,
   "metadata": {},
   "outputs": [
    {
     "data": {
      "application/vnd.jupyter.widget-view+json": {
       "model_id": "e6a534832cd0499daba8a5aa08fa7144",
       "version_major": 2,
       "version_minor": 0
      },
      "text/plain": [
       "HBox(children=(VBox(children=(Label(value='Distance station météo - site en km'), FloatText(value=0.0), Label(…"
      ]
     },
     "metadata": {},
     "output_type": "display_data"
    }
   ],
   "source": [
    "#nbi:hide_in\n",
    "Label_dist_met = widgets.Label('Distance station météo - site en km')\n",
    "dist_met = widgets.FloatText()\n",
    "\n",
    "Label_alt_met = widgets.Label('Altitude station météo en m')\n",
    "alt_met = widgets.FloatText()\n",
    "\n",
    "Label_alt_site = widgets.Label('Altitude site en m')\n",
    "alt_site = widgets.FloatText()\n",
    "\n",
    "vbox1dist = widgets.VBox([Label_dist_met, dist_met, Label_alt_site, alt_site])\n",
    "#vbox2 = widgets.VBox([Label_prec1,prec1])\n",
    "vbox3dist = widgets.VBox([Label_alt_met, alt_met])\n",
    "#vbox4 = widgets.VBox([Label_prec3,prec3])\n",
    "\n",
    "widgets.HBox([vbox1dist, vbox3dist])#, vbox3, vbox4])"
   ]
  },
  {
   "cell_type": "code",
   "execution_count": 8,
   "metadata": {
    "scrolled": true
   },
   "outputs": [],
   "source": [
    "#nbi:hide_in\n",
    "Label_sem = widgets.Label(\"Numéro de la semaine dans l'année\")\n",
    "sem = widgets.IntText()\n",
    "\n",
    "vbox_date = widgets.VBox([Label_sem, sem])"
   ]
  },
  {
   "cell_type": "code",
   "execution_count": 9,
   "metadata": {},
   "outputs": [
    {
     "data": {
      "application/vnd.jupyter.widget-view+json": {
       "model_id": "974acbe2ca114b64a9aa1c5a801c350f",
       "version_major": 2,
       "version_minor": 0
      },
      "text/plain": [
       "HBox(children=(VBox(children=(Label(value=\"Numéro de la semaine dans l'année\"), IntText(value=0))), Dropdown(d…"
      ]
     },
     "metadata": {},
     "output_type": "display_data"
    }
   ],
   "source": [
    "#nbi:hide_in\n",
    "jour = widgets.Dropdown(\n",
    "value = 'lundi',\n",
    "options = ['lundi', 'mardi', 'mercredi', 'jeudi', 'vendredi', 'samedi', 'dimanche'],\n",
    "description = 'Jour :'\n",
    ")\n",
    "widgets.HBox([vbox_date, jour])"
   ]
  },
  {
   "cell_type": "code",
   "execution_count": 10,
   "metadata": {},
   "outputs": [],
   "source": [
    "#nbi:hide_in\n",
    "region = widgets.Dropdown(\n",
    "value = 'Auvergne Rhone Alpes',\n",
    "options = [\"Auvergne Rhone Alpes\", \"Normandie\", \"Nouvelle Aquitaine\", \"Occitanie\", \"Pays de la loire\"],\n",
    "description = 'Région :'\n",
    ")"
   ]
  },
  {
   "cell_type": "code",
   "execution_count": 11,
   "metadata": {},
   "outputs": [],
   "source": [
    "#nbi:hide_in\n",
    "depart = widgets.Dropdown(\n",
    "value = 'Ain',\n",
    "options = [\"Ain\", \"Ariege\", \"Cantal\", \"Hte Vienne\", \"Isere\", \"Loire Atlantique\", \"Maine et Loire\", \"Seine Maritime\"],\n",
    "description = 'Département :'\n",
    ")"
   ]
  },
  {
   "cell_type": "code",
   "execution_count": 12,
   "metadata": {},
   "outputs": [
    {
     "data": {
      "application/vnd.jupyter.widget-view+json": {
       "model_id": "a42ccd96391440f887c06d30e1cfb648",
       "version_major": 2,
       "version_minor": 0
      },
      "text/plain": [
       "HBox(children=(Dropdown(description='Région :', options=('Auvergne Rhone Alpes', 'Normandie', 'Nouvelle Aquita…"
      ]
     },
     "metadata": {},
     "output_type": "display_data"
    }
   ],
   "source": [
    "#nbi:hide_in\n",
    "widgets.HBox([region, depart])"
   ]
  },
  {
   "cell_type": "code",
   "execution_count": 13,
   "metadata": {},
   "outputs": [],
   "source": [
    "#nbi:hide_in\n",
    "saison = widgets.RadioButtons(\n",
    "value = 'Printemps',\n",
    "options = ['Printemps', 'Hiver (trouvée après le 01/09)'],\n",
    "description = 'Saison:'\n",
    ")"
   ]
  },
  {
   "cell_type": "code",
   "execution_count": 14,
   "metadata": {},
   "outputs": [],
   "source": [
    "#nbi:hide_in\n",
    "expo_lum = widgets.RadioButtons(\n",
    "value = 'soleil',\n",
    "options = [\"soleil\", \"mi_soleil (soleil à partir de 15h)\", \"ombre\"],\n",
    "description = 'Exposition à la lumière :'\n",
    ")"
   ]
  },
  {
   "cell_type": "code",
   "execution_count": 15,
   "metadata": {},
   "outputs": [],
   "source": [
    "#nbi:hide_in\n",
    "expo_vent = widgets.RadioButtons(\n",
    "value = 'abrite',\n",
    "options = [\"abrite\", \"mi\", \"vent\"],\n",
    "description = 'Exposition au vent :'\n",
    ")"
   ]
  },
  {
   "cell_type": "code",
   "execution_count": 16,
   "metadata": {},
   "outputs": [],
   "source": [
    "#nbi:hide_in\n",
    "orientation = widgets.RadioButtons(\n",
    "value = 'Est',\n",
    "options = [\"Est\",  \"Ouest\",  \"Sud\",  \"Sud-Est\"],\n",
    "description = \"Orientation de l'entrée de la ruche:\"\n",
    ")"
   ]
  },
  {
   "cell_type": "code",
   "execution_count": 17,
   "metadata": {},
   "outputs": [
    {
     "data": {
      "application/vnd.jupyter.widget-view+json": {
       "model_id": "009a45d1804f4a37a7940074cc24b1b8",
       "version_major": 2,
       "version_minor": 0
      },
      "text/plain": [
       "HBox(children=(VBox(children=(RadioButtons(description='Exposition à la lumière :', options=('soleil', 'mi_sol…"
      ]
     },
     "metadata": {},
     "output_type": "display_data"
    }
   ],
   "source": [
    "#nbi:hide_in\n",
    "vbox_ruche1 = widgets.VBox([expo_lum,saison])\n",
    "vbox_ruche2 = widgets.VBox([expo_vent, orientation])\n",
    "\n",
    "widgets.HBox([vbox_ruche1, vbox_ruche2])"
   ]
  },
  {
   "cell_type": "code",
   "execution_count": 18,
   "metadata": {},
   "outputs": [],
   "source": [
    "#nbi:hide_in\n",
    "type_r = widgets.RadioButtons(\n",
    "value = 'Ruche',\n",
    "options = ['Ruche', 'Ruchette'],\n",
    "description = 'Type :'\n",
    ")"
   ]
  },
  {
   "cell_type": "code",
   "execution_count": 19,
   "metadata": {},
   "outputs": [],
   "source": [
    "#nbi:hide_in\n",
    "race = widgets.RadioButtons(\n",
    "value = 'Hybride',\n",
    "options = ['Hybride', 'Noire'],\n",
    "description = 'Race abeille :'\n",
    ")"
   ]
  },
  {
   "cell_type": "code",
   "execution_count": 20,
   "metadata": {},
   "outputs": [
    {
     "data": {
      "application/vnd.jupyter.widget-view+json": {
       "model_id": "495eabfca1ba4591a63c6122fa593d4d",
       "version_major": 2,
       "version_minor": 0
      },
      "text/plain": [
       "HBox(children=(RadioButtons(description='Type :', options=('Ruche', 'Ruchette'), value='Ruche'), RadioButtons(…"
      ]
     },
     "metadata": {},
     "output_type": "display_data"
    }
   ],
   "source": [
    "#nbi:hide_in\n",
    "widgets.HBox([type_r, race])"
   ]
  },
  {
   "cell_type": "code",
   "execution_count": 21,
   "metadata": {},
   "outputs": [],
   "source": [
    "#nbi:hide_in\n",
    "def on_button_clicked1(b):\n",
    "        with output1:\n",
    "            output1.clear_output()\n",
    "            \n",
    "            dic_race = {'Hybride' : 0, 'Noire' : 1}\n",
    "            dic_type = {\"Ruche\" : 0, \"Ruchette\" : 1}\n",
    "            dic_orientation = {\"Est\" : 0,  \"Ouest\" : 1,  \"Sud\" : 2,  \"Sud-Est\" : 3}\n",
    "            dic_expo_vent = {\"abrite\" : 0, \"mi\" : 1, \"vent\" : 2}\n",
    "            dic_expo_lum = {\"soleil\" : 2, \"mi_soleil (soleil à partir de 15h)\" : 0, \"ombre\" : 1}\n",
    "            dic_saison = {'Printemps' : 1, 'Hiver (trouvée après le 01/09)' : 0}\n",
    "            dic_depart = {\"Ain\" : 0, \"Ariege\" : 1, \"Cantal\" : 2, \"Hte Vienne\" : 3, \"Isere\" : 4, \n",
    "                          \"Loire Atlantique\" : 5, \"Maine et Loire\" : 6, \"Seine Maritime\" : 7}\n",
    "            dic_region = {\"Auvergne Rhone Alpes\" : 0, \"Normandie\" : 1, \n",
    "                          \"Nouvelle Aquitaine\" : 2, \"Occitanie\" : 3, \"Pays de la loire\" : 4}\n",
    "            dic_jour = {\"lundi\" : 1, \"mardi\" : 2, \"mercredi\" : 3, \"jeudi\" : 4, \"vendredi\" : 5, \"samedi\" : 6, \"dimanche\" : 7}\n",
    "            \n",
    "            \n",
    "            \n",
    "            name_column = [\"pdsab_calc\", \"saison_exp\", \"expo_lum\", \"expo_vent\", \"orientation\", \"type\", \"race\", \"precipitation\", \n",
    "                           \"humidite\", \"moy_temp\", \"precipitation_J1\", \"precipitation_J2\", \"precipitation_J3\", \"humidite_J1\", \n",
    "                           \"humidite_J2\", \"humidite_J3\", \"moy_temp_J1\", \"moy_temp_J2\", \"moy_temp_J3\", \"Departement\", \"Region\", \"meteo_km\", \n",
    "                           \"alt_meteo_m\", \"alt_site_m\", \"semaine\", \"jour\"]\n",
    "            list_pred = [[pds_ab.value, dic_saison[saison.value], dic_expo_lum[expo_lum.value], dic_expo_vent[expo_vent.value], \n",
    "                         dic_orientation[orientation.value], dic_type[type_r.value], dic_race[race.value], prec.value, hum.value, \n",
    "                         temp.value, prec1.value, prec2.value, prec3.value, hum1.value, hum2.value, hum3.value, temp1.value, temp2.value, \n",
    "                         temp3.value, dic_depart[depart.value], dic_region[region.value], dist_met.value, alt_met.value, alt_site.value, \n",
    "                         sem.value, dic_jour[jour.value]]]\n",
    "            pred = pd.DataFrame(list_pred, columns = name_column)\n",
    "            \n",
    "            \n",
    "            df = pd.read_csv(\"info_tot_ab.csv\",sep=\";\", decimal = \",\")\n",
    "            df['date'] = pd.to_datetime(df[\"date\"])\n",
    "            values=[\"semaine1\", \"semaine2\", \"semaine3\", \"semaine4\"]\n",
    "            filtered_df = df[df.semaine.isin(values)]\n",
    "            index_with_nan = filtered_df.index[filtered_df.isnull().any(axis=1)]\n",
    "            filtered_df.drop(index_with_nan,0, inplace=True)\n",
    "            \n",
    "            y = filtered_df[\"num_jour\"]\n",
    "            X = filtered_df.copy()\n",
    "\n",
    "            del X[\"num_jour\"]\n",
    "            del X[\"semaine\"]\n",
    "            del X[\"site_lot_nbab\"]\n",
    "            X[\"semaine\"] = X[\"date\"].dt.isocalendar()[\"week\"]\n",
    "            X[\"jour\"] = X[\"date\"].dt.isocalendar()[\"day\"]\n",
    "            del X[\"date\"]\n",
    "            del X[\"nbab\"]\n",
    "            del X[\"cadre\"]\n",
    "            del X[\"cause_mort\"]\n",
    "            del X[\"origine\"]\n",
    "            del X[\"somme_precipitation_7\"]\n",
    "            del X[\"somme_precipitation_3\"]\n",
    "            del X[\"temp_12h\"]\n",
    "            del X[\"lot\"]\n",
    "            del X[\"site\"]\n",
    "            \n",
    "            X[\"Departement\"] = pd.Categorical(X[\"Departement\"]).codes\n",
    "            X[\"Region\"] = pd.Categorical(X[\"Region\"]).codes\n",
    "            X[\"saison_exp\"] = pd.Categorical(X[\"saison_exp\"]).codes\n",
    "            X[\"expo_lum\"] = pd.Categorical(X[\"expo_lum\"]).codes\n",
    "            X[\"expo_vent\"] = pd.Categorical(X[\"expo_vent\"]).codes\n",
    "            X[\"orientation\"] = pd.Categorical(X[\"orientation\"]).codes\n",
    "            X[\"type\"] = pd.Categorical(X[\"type\"]).codes\n",
    "            X[\"race\"] = pd.Categorical(X[\"race\"]).codes\n",
    "            \n",
    "            X_train, X_test, y_train, y_test = train_test_split(X, y, test_size=0.33, random_state=0)\n",
    "            dt = DecisionTreeClassifier()\n",
    "            dt.fit(X_train,y_train)\n",
    "            y_predict = dt.predict(X_test)\n",
    "            \n",
    "            print(pd.crosstab(y_test,y_predict))\n",
    "            \n",
    "            print(accuracy_score(y_test,y_predict))\n",
    "            \n",
    "            print(dt.predict(pred)[0])"
   ]
  },
  {
   "cell_type": "code",
   "execution_count": 22,
   "id": "shared-brazil",
   "metadata": {},
   "outputs": [
    {
     "data": {
      "application/vnd.jupyter.widget-view+json": {
       "model_id": "e79abf07f07f45cba9a3d9c5b75a39f1",
       "version_major": 2,
       "version_minor": 0
      },
      "text/plain": [
       "Button(button_style='success', description='Prédiction', style=ButtonStyle())"
      ]
     },
     "metadata": {},
     "output_type": "display_data"
    },
    {
     "data": {
      "application/vnd.jupyter.widget-view+json": {
       "model_id": "fad5241e3c8d483280384df164fb1bd4",
       "version_major": 2,
       "version_minor": 0
      },
      "text/plain": [
       "Output()"
      ]
     },
     "metadata": {},
     "output_type": "display_data"
    }
   ],
   "source": [
    "#nbi:hide_in\n",
    "button1 = widgets.Button(description=\"Prédiction\", button_style='success') # 'success', 'info', 'warning', 'danger' or '')\n",
    "output1 = widgets.Output()\n",
    "display(button1, output1)\n",
    "\n",
    "button1.on_click(on_button_clicked1)"
   ]
  }
 ],
 "metadata": {
  "kernelspec": {
   "display_name": "Python 3",
   "language": "python",
   "name": "python3"
  },
  "language_info": {
   "codemirror_mode": {
    "name": "ipython",
    "version": 3
   },
   "file_extension": ".py",
   "mimetype": "text/x-python",
   "name": "python",
   "nbconvert_exporter": "python",
   "pygments_lexer": "ipython3",
   "version": "3.7.10"
  }
 },
 "nbformat": 4,
 "nbformat_minor": 5
}

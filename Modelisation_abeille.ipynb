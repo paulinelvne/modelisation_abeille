{
 "cells": [
  {
   "cell_type": "code",
   "execution_count": 2,
   "id": "equipped-computer",
   "metadata": {},
   "outputs": [],
   "source": [
    "#nbi:hide_in\n",
    "#nbi:hide_out\n",
    "\n",
    "from ipywidgets import interact, interactive, widgets\n",
    "from IPython.display import display"
   ]
  },
  {
   "cell_type": "code",
   "execution_count": 53,
   "metadata": {},
   "outputs": [
    {
     "data": {
      "application/vnd.jupyter.widget-view+json": {
       "model_id": "7deab6c5e8494697925c9bf8509db6ca",
       "version_major": 2,
       "version_minor": 0
      },
      "text/plain": [
       "VBox(children=(Label(value='Poids abeille en mg'), FloatText(value=0.0)))"
      ]
     },
     "metadata": {},
     "output_type": "display_data"
    }
   ],
   "source": [
    "#nbi:hide_in\n",
    "Label_ab = widgets.Label('Poids abeille en mg')\n",
    "pds_ab = widgets.FloatText()\n",
    "\n",
    "widgets.VBox([Label,pds_ab])"
   ]
  },
  {
   "cell_type": "code",
   "execution_count": 46,
   "metadata": {},
   "outputs": [
    {
     "data": {
      "application/vnd.jupyter.widget-view+json": {
       "model_id": "b4c8acd77fae4a089aae7d233933f425",
       "version_major": 2,
       "version_minor": 0
      },
      "text/plain": [
       "HBox(children=(VBox(children=(Label(value='Précipitation en mm'), Text(value=''), Label(value='Précipitation e…"
      ]
     },
     "metadata": {},
     "output_type": "display_data"
    }
   ],
   "source": [
    "#nbi:hide_in\n",
    "Label_prec = widgets.Label('Précipitation en mm')\n",
    "prec = widgets.FloatText()\n",
    "\n",
    "Label_prec1 = widgets.Label('Précipitation en mm à J-1')\n",
    "prec1 = widgets.FloatText()\n",
    "\n",
    "Label_prec2 = widgets.Label('Précipitation en mm à J-2')\n",
    "prec2 = widgets.FloatText()\n",
    "\n",
    "Label_prec3 = widgets.Label('Précipitation en mm à J-3')\n",
    "prec3 = widgets.FloatText()\n",
    "\n",
    "vbox1prec = widgets.VBox([Label_prec,prec, Label_prec1,prec1])\n",
    "#vbox2 = widgets.VBox([Label_prec1,prec1])\n",
    "vbox3prec = widgets.VBox([Label_prec2,prec2, Label_prec3,prec3])\n",
    "#vbox4 = widgets.VBox([Label_prec3,prec3])\n",
    "\n",
    "widgets.HBox([vbox1prec, vbox3prec])#, vbox3, vbox4])"
   ]
  },
  {
   "cell_type": "code",
   "execution_count": 47,
   "metadata": {},
   "outputs": [
    {
     "data": {
      "application/vnd.jupyter.widget-view+json": {
       "model_id": "a49a5fc930d7405eaa852b4e3bba99a5",
       "version_major": 2,
       "version_minor": 0
      },
      "text/plain": [
       "HBox(children=(VBox(children=(Label(value='Humidité en %'), Text(value=''), Label(value='Humidité en % à J-1')…"
      ]
     },
     "metadata": {},
     "output_type": "display_data"
    }
   ],
   "source": [
    "#nbi:hide_in\n",
    "Label_hum = widgets.Label('Humidité en %')\n",
    "hum = widgets.FloatText()\n",
    "\n",
    "Label_hum1 = widgets.Label('Humidité en % à J-1')\n",
    "hum1 = widgets.FloatText()\n",
    "\n",
    "Label_hum2 = widgets.Label('Humidité en % à J-2')\n",
    "hum2 = widgets.FloatText()\n",
    "\n",
    "Label_hum3 = widgets.Label('Humidité en % à J-3')\n",
    "hum3 = widgets.FloatText()\n",
    "\n",
    "vbox1hum = widgets.VBox([Label_hum, hum, Label_hum1, hum1])\n",
    "#vbox2 = widgets.VBox([Label_prec1,prec1])\n",
    "vbox3hum = widgets.VBox([Label_hum2, hum2, Label_hum3, hum3])\n",
    "#vbox4 = widgets.VBox([Label_prec3,prec3])\n",
    "\n",
    "widgets.HBox([vbox1hum, vbox3hum])#, vbox3, vbox4])"
   ]
  },
  {
   "cell_type": "code",
   "execution_count": 48,
   "metadata": {},
   "outputs": [
    {
     "data": {
      "application/vnd.jupyter.widget-view+json": {
       "model_id": "6fa5b8f2349a4640a30c18cb4197fde5",
       "version_major": 2,
       "version_minor": 0
      },
      "text/plain": [
       "HBox(children=(VBox(children=(Label(value='Température moyenne en °C'), Text(value=''), Label(value='Températu…"
      ]
     },
     "metadata": {},
     "output_type": "display_data"
    }
   ],
   "source": [
    "#nbi:hide_in\n",
    "Label_temp = widgets.Label('Température moyenne en °C')\n",
    "temp = widgets.Text()\n",
    "\n",
    "Label_temp1 = widgets.Label('Température moyenne en °C à J-1')\n",
    "temp1 = widgets.FloatText()\n",
    "\n",
    "Label_temp2 = widgets.Label('Température moyenne en °C à J-2')\n",
    "temp2 = widgets.FloatText()\n",
    "\n",
    "Label_temp3 = widgets.Label('Température moyenne en °C à J-3')\n",
    "temp3 = widgets.FloatText()\n",
    "\n",
    "vbox1temp = widgets.VBox([Label_temp, temp, Label_temp1, temp1])\n",
    "#vbox2 = widgets.VBox([Label_prec1,prec1])\n",
    "vbox3temp = widgets.VBox([Label_temp2, temp2, Label_temp3, temp3])\n",
    "#vbox4 = widgets.VBox([Label_prec3,prec3])\n",
    "\n",
    "widgets.HBox([vbox1temp, vbox3temp])#, vbox3, vbox4])"
   ]
  },
  {
   "cell_type": "code",
   "execution_count": 50,
   "metadata": {},
   "outputs": [
    {
     "data": {
      "application/vnd.jupyter.widget-view+json": {
       "model_id": "f8c3979a62414738a471da705e75208f",
       "version_major": 2,
       "version_minor": 0
      },
      "text/plain": [
       "HBox(children=(VBox(children=(Label(value='Distance station météo - site en km'), Text(value=''), Label(value=…"
      ]
     },
     "metadata": {},
     "output_type": "display_data"
    }
   ],
   "source": [
    "#nbi:hide_in\n",
    "Label_dist_met = widgets.Label('Distance station météo - site en km')\n",
    "dist_met = widgets.FloatText()\n",
    "\n",
    "Label_alt_met = widgets.Label('Altitude station météo en m')\n",
    "alt_met = widgets.FloatText()\n",
    "\n",
    "Label_alt_site = widgets.Label('Altitude site en m')\n",
    "alt_site = widgets.FloatText()\n",
    "\n",
    "vbox1dist = widgets.VBox([Label_dist_met, dist_met, Label_alt_site, alt_site])\n",
    "#vbox2 = widgets.VBox([Label_prec1,prec1])\n",
    "vbox3dist = widgets.VBox([Label_alt_met, alt_met])\n",
    "#vbox4 = widgets.VBox([Label_prec3,prec3])\n",
    "\n",
    "widgets.HBox([vbox1dist, vbox3dist])#, vbox3, vbox4])"
   ]
  },
  {
   "cell_type": "code",
   "execution_count": 124,
   "metadata": {
    "scrolled": true
   },
   "outputs": [],
   "source": [
    "#nbi:hide_in\n",
    "Label_sem = widgets.Label(\"Numéro de la semaine dans l'année\")\n",
    "sem = widgets.IntText()\n",
    "\n",
    "vbox_date = widgets.VBox([Label_sem, sem])"
   ]
  },
  {
   "cell_type": "code",
   "execution_count": 85,
   "metadata": {},
   "outputs": [],
   "source": [
    "#nbi:hide_in\n",
    "dic_jour = {\"lundi\" : 1, \"mardi\" : 2, \"mercredi\" : 3, \"jeudi\" : 4, \"vendredi\" : 5, \"samedi\" : 6, \"dimanche\" : 7}"
   ]
  },
  {
   "cell_type": "code",
   "execution_count": 125,
   "metadata": {},
   "outputs": [
    {
     "data": {
      "application/vnd.jupyter.widget-view+json": {
       "model_id": "def741dfead7419195be762174c3428a",
       "version_major": 2,
       "version_minor": 0
      },
      "text/plain": [
       "HBox(children=(VBox(children=(Label(value=\"Numéro de la semaine dans l'année\"), IntText(value=0))), Dropdown(d…"
      ]
     },
     "metadata": {},
     "output_type": "display_data"
    }
   ],
   "source": [
    "#nbi:hide_in\n",
    "jour = widgets.Dropdown(\n",
    "value = 'lundi',\n",
    "options = ['lundi', 'mardi', 'mercredi', 'jeudi', 'vendredi', 'samedi', 'dimanche'],\n",
    "description = 'Jour :'\n",
    ")\n",
    "widgets.HBox([vbox_date, jour])"
   ]
  },
  {
   "cell_type": "code",
   "execution_count": 95,
   "metadata": {},
   "outputs": [],
   "source": [
    "#nbi:hide_in\n",
    "dic_region = {\"Auvergne Rhone Alpes\" : 0, \"Normandie\" : 1, \"Nouvelle Aquitaine\" : 2, \"Occitanie\" : 3, \"Pays de la loire\" : 4}"
   ]
  },
  {
   "cell_type": "code",
   "execution_count": 120,
   "metadata": {},
   "outputs": [],
   "source": [
    "#nbi:hide_in\n",
    "region = widgets.Dropdown(\n",
    "value = 'Auvergne Rhone Alpes',\n",
    "options = [\"Auvergne Rhone Alpes\", \"Normandie\", \"Nouvelle Aquitaine\", \"Occitanie\", \"Pays de la loire\"],\n",
    "description = 'Région :'\n",
    ")"
   ]
  },
  {
   "cell_type": "code",
   "execution_count": 98,
   "metadata": {},
   "outputs": [],
   "source": [
    "#nbi:hide_in\n",
    "dic_depart = {\"Ain\" : 0, \"Ariege\" : 1, \"Cantal\" : 2, \n",
    "              \"Hte Vienne\" : 3, \"Isere\" : 4, \"Loire Atlantique\" : 5, \"Maine et Loire\" : 6, \"Seine Maritime\" : 7}"
   ]
  },
  {
   "cell_type": "code",
   "execution_count": 119,
   "metadata": {},
   "outputs": [],
   "source": [
    "#nbi:hide_in\n",
    "depart = widgets.Dropdown(\n",
    "value = 'Ain',\n",
    "options = [\"Ain\", \"Ariege\", \"Cantal\", \"Hte Vienne\", \"Isere\", \"Loire Atlantique\", \"Maine et Loire\", \"Seine Maritime\"],\n",
    "description = 'Département :'\n",
    ")"
   ]
  },
  {
   "cell_type": "code",
   "execution_count": 127,
   "metadata": {},
   "outputs": [
    {
     "data": {
      "application/vnd.jupyter.widget-view+json": {
       "model_id": "14023d31aad44448a544d4d471e9e734",
       "version_major": 2,
       "version_minor": 0
      },
      "text/plain": [
       "HBox(children=(Dropdown(description='Région :', options=('Auvergne Rhone Alpes', 'Normandie', 'Nouvelle Aquita…"
      ]
     },
     "metadata": {},
     "output_type": "display_data"
    }
   ],
   "source": [
    "#nbi:hide_in\n",
    "widgets.HBox([region, depart])"
   ]
  },
  {
   "cell_type": "code",
   "execution_count": 99,
   "metadata": {},
   "outputs": [],
   "source": [
    "#nbi:hide_in\n",
    "dic_saison = {'Printemps' : 1, 'Hiver (trouvée après le 01/09)' : 0}"
   ]
  },
  {
   "cell_type": "code",
   "execution_count": 118,
   "metadata": {},
   "outputs": [],
   "source": [
    "#nbi:hide_in\n",
    "saison = widgets.RadioButtons(\n",
    "value = 'Printemps',\n",
    "options = ['Printemps', 'Hiver (trouvée après le 01/09)'],\n",
    "description = 'Saison:'\n",
    ")"
   ]
  },
  {
   "cell_type": "code",
   "execution_count": 104,
   "metadata": {},
   "outputs": [],
   "source": [
    "#nbi:hide_in\n",
    "dic_expo_lum = {\"soleil\" : 2, \"mi_soleil (soleil à partir de 15h)\" : 0, \"ombre\" : 1}"
   ]
  },
  {
   "cell_type": "code",
   "execution_count": 117,
   "metadata": {},
   "outputs": [],
   "source": [
    "#nbi:hide_in\n",
    "expo_lum = widgets.RadioButtons(\n",
    "value = 'soleil',\n",
    "options = [\"soleil\", \"mi_soleil (soleil à partir de 15h)\", \"ombre\"],\n",
    "description = 'Exposition à la lumière :'\n",
    ")"
   ]
  },
  {
   "cell_type": "code",
   "execution_count": 102,
   "metadata": {},
   "outputs": [],
   "source": [
    "#nbi:hide_in\n",
    "dic_expo_vent = {\"abrite\" : 0, \"mi\" : 1, \"vent\" : 2}"
   ]
  },
  {
   "cell_type": "code",
   "execution_count": 116,
   "metadata": {},
   "outputs": [],
   "source": [
    "#nbi:hide_in\n",
    "expo_vent = widgets.RadioButtons(\n",
    "value = 'abrite',\n",
    "options = [\"abrite\", \"mi\", \"vent\"],\n",
    "description = 'Exposition au vent :'\n",
    ")"
   ]
  },
  {
   "cell_type": "code",
   "execution_count": 105,
   "metadata": {},
   "outputs": [],
   "source": [
    "#nbi:hide_in\n",
    "dic_orientation = {\"Est\" : 0,  \"Ouest\" : 1,  \"Sud\" : 2,  \"Sud-Est\" : 3}"
   ]
  },
  {
   "cell_type": "code",
   "execution_count": 115,
   "metadata": {},
   "outputs": [],
   "source": [
    "#nbi:hide_in\n",
    "orientation = widgets.RadioButtons(\n",
    "value = 'Est',\n",
    "options = [\"Est\",  \"Ouest\",  \"Sud\",  \"Sud-Est\"],\n",
    "description = \"Orientation de l'entrée de la ruche:\"\n",
    ")"
   ]
  },
  {
   "cell_type": "code",
   "execution_count": 131,
   "metadata": {},
   "outputs": [
    {
     "data": {
      "application/vnd.jupyter.widget-view+json": {
       "model_id": "9ad76bb166c44d389b9f6eea07f66ffe",
       "version_major": 2,
       "version_minor": 0
      },
      "text/plain": [
       "HBox(children=(VBox(children=(RadioButtons(description='Exposition à la lumière :', options=('soleil', 'mi_sol…"
      ]
     },
     "metadata": {},
     "output_type": "display_data"
    }
   ],
   "source": [
    "#nbi:hide_in\n",
    "vbox_ruche1 = widgets.VBox([expo_lum,saison])\n",
    "vbox_ruche2 = widgets.VBox([expo_vent, orientation])\n",
    "\n",
    "widgets.HBox([vbox_ruche1, vbox_ruche2])"
   ]
  },
  {
   "cell_type": "code",
   "execution_count": null,
   "metadata": {},
   "outputs": [],
   "source": [
    "#nbi:hide_in\n",
    "dic_type = {\"Ruche\" : 0, \"Ruchette\" : 1}"
   ]
  },
  {
   "cell_type": "code",
   "execution_count": 114,
   "metadata": {},
   "outputs": [],
   "source": [
    "#nbi:hide_in\n",
    "type_r = widgets.RadioButtons(\n",
    "value = 'Ruche',\n",
    "options = ['Ruche', 'Ruchette'],\n",
    "description = 'Type :'\n",
    ")"
   ]
  },
  {
   "cell_type": "code",
   "execution_count": 150,
   "metadata": {},
   "outputs": [],
   "source": [
    "#nbi:hide_in\n",
    "dic_race = {'Hybride' : 0, 'Noire' : 1}"
   ]
  },
  {
   "cell_type": "code",
   "execution_count": 113,
   "metadata": {},
   "outputs": [],
   "source": [
    "#nbi:hide_in\n",
    "race = widgets.RadioButtons(\n",
    "value = 'Hybride',\n",
    "options = ['Hybride', 'Noire'],\n",
    "description = 'Race abeille :'\n",
    ")"
   ]
  },
  {
   "cell_type": "code",
   "execution_count": 129,
   "metadata": {},
   "outputs": [
    {
     "data": {
      "application/vnd.jupyter.widget-view+json": {
       "model_id": "12e56f64708e4734ac2a8cfbd8ca1759",
       "version_major": 2,
       "version_minor": 0
      },
      "text/plain": [
       "HBox(children=(RadioButtons(description='Type :', options=('Ruche', 'Ruchette'), value='Ruche'), RadioButtons(…"
      ]
     },
     "metadata": {},
     "output_type": "display_data"
    }
   ],
   "source": [
    "#nbi:hide_in\n",
    "widgets.HBox([type_r, race])"
   ]
  },
  {
   "cell_type": "code",
   "execution_count": 151,
   "metadata": {},
   "outputs": [],
   "source": [
    "#nbi:hide_in\n",
    "def on_button_clicked1(b):\n",
    "        with output1:\n",
    "            output1.clear_output()\n",
    "            \n",
    "            \n",
    "            print(dic_race[race.value], dic_type[type_r.value])"
   ]
  },
  {
   "cell_type": "code",
   "execution_count": 147,
   "id": "shared-brazil",
   "metadata": {},
   "outputs": [
    {
     "data": {
      "application/vnd.jupyter.widget-view+json": {
       "model_id": "15d00b5fbfe74140994bb9714537ec98",
       "version_major": 2,
       "version_minor": 0
      },
      "text/plain": [
       "Button(button_style='success', description='Prédiction', style=ButtonStyle())"
      ]
     },
     "metadata": {},
     "output_type": "display_data"
    },
    {
     "data": {
      "application/vnd.jupyter.widget-view+json": {
       "model_id": "be2d71b6dc6041cfaf186f256b76dc55",
       "version_major": 2,
       "version_minor": 0
      },
      "text/plain": [
       "Output()"
      ]
     },
     "metadata": {},
     "output_type": "display_data"
    }
   ],
   "source": [
    "#nbi:hide_in\n",
    "button1 = widgets.Button(description=\"Prédiction\", button_style='success') # 'success', 'info', 'warning', 'danger' or '')\n",
    "output1 = widgets.Output()\n",
    "display(button1, output1)\n",
    "\n",
    "button1.on_click(on_button_clicked1)"
   ]
  }
 ],
 "metadata": {
  "kernelspec": {
   "display_name": "Python 3",
   "language": "python",
   "name": "python3"
  },
  "language_info": {
   "codemirror_mode": {
    "name": "ipython",
    "version": 3
   },
   "file_extension": ".py",
   "mimetype": "text/x-python",
   "name": "python",
   "nbconvert_exporter": "python",
   "pygments_lexer": "ipython3",
   "version": "3.7.10"
  }
 },
 "nbformat": 4,
 "nbformat_minor": 5
}

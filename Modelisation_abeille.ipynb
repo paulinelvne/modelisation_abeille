{
 "cells": [
  {
   "cell_type": "code",
   "execution_count": 2,
   "id": "equipped-computer",
   "metadata": {},
   "outputs": [
    {
     "name": "stdout",
     "output_type": "stream",
     "text": [
      "Requirement already satisfied: sklearn in /srv/conda/envs/notebook/lib/python3.7/site-packages (0.0)\n",
      "Requirement already satisfied: scikit-learn in /srv/conda/envs/notebook/lib/python3.7/site-packages (from sklearn) (0.24.2)\n",
      "Requirement already satisfied: threadpoolctl>=2.0.0 in /srv/conda/envs/notebook/lib/python3.7/site-packages (from scikit-learn->sklearn) (2.2.0)\n",
      "Requirement already satisfied: scipy>=0.19.1 in /srv/conda/envs/notebook/lib/python3.7/site-packages (from scikit-learn->sklearn) (1.7.1)\n",
      "Requirement already satisfied: joblib>=0.11 in /srv/conda/envs/notebook/lib/python3.7/site-packages (from scikit-learn->sklearn) (1.0.1)\n",
      "Requirement already satisfied: numpy>=1.13.3 in /srv/conda/envs/notebook/lib/python3.7/site-packages (from scikit-learn->sklearn) (1.21.2)\n",
      "Collecting matplotlib\n",
      "  Downloading matplotlib-3.4.3-cp37-cp37m-manylinux1_x86_64.whl (10.3 MB)\n",
      "\u001b[K     |████████████████████████████████| 10.3 MB 4.5 MB/s eta 0:00:01\n",
      "\u001b[?25hRequirement already satisfied: python-dateutil>=2.7 in /srv/conda/envs/notebook/lib/python3.7/site-packages (from matplotlib) (2.8.1)\n",
      "Collecting cycler>=0.10\n",
      "  Using cached cycler-0.10.0-py2.py3-none-any.whl (6.5 kB)\n",
      "Collecting pillow>=6.2.0\n",
      "  Using cached Pillow-8.3.1-cp37-cp37m-manylinux_2_5_x86_64.manylinux1_x86_64.whl (3.0 MB)\n",
      "Collecting kiwisolver>=1.0.1\n",
      "  Using cached kiwisolver-1.3.1-cp37-cp37m-manylinux1_x86_64.whl (1.1 MB)\n",
      "Requirement already satisfied: numpy>=1.16 in /srv/conda/envs/notebook/lib/python3.7/site-packages (from matplotlib) (1.21.2)\n",
      "Requirement already satisfied: pyparsing>=2.2.1 in /srv/conda/envs/notebook/lib/python3.7/site-packages (from matplotlib) (2.4.7)\n",
      "Requirement already satisfied: six in /srv/conda/envs/notebook/lib/python3.7/site-packages (from cycler>=0.10->matplotlib) (1.15.0)\n",
      "Installing collected packages: pillow, kiwisolver, cycler, matplotlib\n",
      "Successfully installed cycler-0.10.0 kiwisolver-1.3.1 matplotlib-3.4.3 pillow-8.3.1\n"
     ]
    }
   ],
   "source": [
    "#nbi:hide_in\n",
    "#nbi:hide_out\n",
    "!pip3 install sklearn\n",
    "!pip3 install matplotlib \n",
    "\n",
    "from ipywidgets import interact, interactive, widgets\n",
    "from IPython.display import display, Image\n",
    "import pandas as pd\n",
    "from sklearn.ensemble import RandomForestClassifier\n",
    "from sklearn.model_selection import train_test_split\n",
    "from sklearn.metrics import accuracy_score\n",
    "import matplotlib.image as img\n",
    "import matplotlib.pyplot as plt"
   ]
  },
  {
   "cell_type": "code",
   "execution_count": 36,
   "metadata": {},
   "outputs": [],
   "source": [
    "#nbi:hide_in\n",
    "Label_ab = widgets.Label('Poids 300 abeilles en g')\n",
    "pds_ab = widgets.FloatText()"
   ]
  },
  {
   "cell_type": "code",
   "execution_count": 37,
   "metadata": {},
   "outputs": [
    {
     "data": {
      "application/vnd.jupyter.widget-view+json": {
       "model_id": "f256515ee5324260bc3345922beed620",
       "version_major": 2,
       "version_minor": 0
      },
      "text/plain": [
       "VBox(children=(Label(value='Poids 300 abeilles en g'), HBox(children=(FloatText(value=0.0), Output()))))"
      ]
     },
     "metadata": {},
     "output_type": "display_data"
    }
   ],
   "source": [
    "#nbi:hide_in\n",
    "def f(a):\n",
    "    print(\"Le poids moyen d'une abeilles est de \" + str(round(a*10/3, 1)) + \" mg\")\n",
    "\n",
    "out = widgets.interactive_output(f, {'a': pds_ab})\n",
    "\n",
    "p_ab = widgets.HBox([pds_ab, out])\n",
    "widgets.VBox([Label_ab, p_ab])"
   ]
  },
  {
   "cell_type": "code",
   "execution_count": 38,
   "metadata": {},
   "outputs": [],
   "source": [
    "#nbi:hide_in\n",
    "Label_prec = widgets.Label('Précipitation en mm')\n",
    "prec = widgets.FloatText()\n",
    "\n",
    "vbox1prec = widgets.VBox([Label_prec,prec])"
   ]
  },
  {
   "cell_type": "code",
   "execution_count": 39,
   "metadata": {},
   "outputs": [],
   "source": [
    "#nbi:hide_in\n",
    "Label_hum = widgets.Label('Humidité en %')\n",
    "hum = widgets.FloatText()\n",
    "\n",
    "vbox1hum = widgets.VBox([Label_hum, hum])"
   ]
  },
  {
   "cell_type": "code",
   "execution_count": 40,
   "metadata": {},
   "outputs": [],
   "source": [
    "#nbi:hide_in\n",
    "Label_temp = widgets.Label('Température moyenne en °C')\n",
    "temp = widgets.FloatText()\n",
    "\n",
    "vbox1temp = widgets.VBox([Label_temp, temp])"
   ]
  },
  {
   "cell_type": "code",
   "execution_count": 41,
   "metadata": {},
   "outputs": [
    {
     "data": {
      "application/vnd.jupyter.widget-view+json": {
       "model_id": "ab0ea2a6f2f14e82a9db15ebfb36b11d",
       "version_major": 2,
       "version_minor": 0
      },
      "text/plain": [
       "VBox(children=(VBox(children=(Label(value='Précipitation en mm'), FloatText(value=0.0))), VBox(children=(Label…"
      ]
     },
     "metadata": {},
     "output_type": "display_data"
    }
   ],
   "source": [
    "widgets.VBox([vbox1prec, vbox1hum, vbox1temp])"
   ]
  },
  {
   "cell_type": "code",
   "execution_count": 42,
   "metadata": {},
   "outputs": [],
   "source": [
    "#nbi:hide_in\n",
    "saison = widgets.RadioButtons(\n",
    "value = 'printemps',\n",
    "options = ['printemps', 'hiver'],\n",
    "description = 'Saison:'\n",
    ")"
   ]
  },
  {
   "cell_type": "code",
   "execution_count": 44,
   "metadata": {},
   "outputs": [],
   "source": [
    "#nbi:hide_in\n",
    "race = widgets.RadioButtons(\n",
    "value = 'hybride',\n",
    "options = ['hybride', 'noire'],\n",
    "description = 'Race abeille :'\n",
    ")"
   ]
  },
  {
   "cell_type": "code",
   "execution_count": 45,
   "metadata": {},
   "outputs": [
    {
     "data": {
      "application/vnd.jupyter.widget-view+json": {
       "model_id": "89c67827403e4224bbf1f6910680e9cb",
       "version_major": 2,
       "version_minor": 0
      },
      "text/plain": [
       "VBox(children=(Label(value=\"Les abeilles d'hiver sont les abeilles retrouvées après le 01/09\"), HBox(children=…"
      ]
     },
     "metadata": {},
     "output_type": "display_data"
    }
   ],
   "source": [
    "#nbi:hide_in\n",
    "Label = widgets.Label(\"Les abeilles d'hiver sont les abeilles retrouvées après le 01/09\")\n",
    "h = widgets.HBox([race, saison])\n",
    "widgets.VBox([Label, h])"
   ]
  },
  {
   "cell_type": "code",
   "execution_count": 46,
   "metadata": {},
   "outputs": [],
   "source": [
    "def pred_num_jour(pds, race, saison, precipitation, humidite, temperature):\n",
    "    dic_race = {'hybride' : 0, 'noire' : 1}\n",
    "    dic_saison = {'printemps' : 1, 'hiver' : 0}\n",
    "            \n",
    "            \n",
    "    name_column = [\"pdsab_calc\", \"saison_exp\", \"race\", \"precipitation\", \"humidite\", \"moy_temp\"]\n",
    "            \n",
    "    list_pred = [[pds, dic_saison[saison], dic_race[race], precipitation, humidite, temperature]]\n",
    "            \n",
    "            \n",
    "    pred = pd.DataFrame(list_pred, columns = name_column)\n",
    "            \n",
    "            \n",
    "    df = pd.read_csv(\"info_tot_ab_3.csv\",sep=\";\", decimal = \",\")\n",
    "    df.dropna(inplace=True)\n",
    "    values=[\"semaine1\", \"semaine2\", \"semaine3\", \"semaine4\"]\n",
    "    filtered_df = df[df.semaine.isin(values)]\n",
    "                        \n",
    "    y = filtered_df[\"jour\"]\n",
    "    X = filtered_df.copy()\n",
    "\n",
    "    col_sup = [\"num_jour\", \"semaine\", \"site_lot_nbab\", \"date\", \"nbab\" ,\"cadre\", \"cause_mort\", \"origine\", \"lot\", \n",
    "           \"site\", \"Departement\", \"Region\", \"meteo_km\", \"alt_site_m\", \"alt_meteo_m\", \"somme_precipitation_3\",\n",
    "           \"somme_precipitation_7\", \"temp_12h\", \"expo_vent\", \"type\", \"orientation\", \"humidite_J1\", \"humidite_J2\", \n",
    "           \"humidite_J3\", \"moy_temp_J1\", \"moy_temp_J2\", \"moy_temp_J3\", \"precipitation_J1\", \"precipitation_J2\", \n",
    "           \"precipitation_J3\", \"jour\", 'expo_lum']\n",
    "\n",
    "    for e in col_sup :\n",
    "        del X[e]\n",
    "            \n",
    "    col_categorie = [\"saison_exp\", \"race\"]\n",
    "\n",
    "    for e in col_categorie :\n",
    "        X[e] = pd.Categorical(X[e]).codes\n",
    "            \n",
    "    X_train, X_test, y_train, y_test = train_test_split(X, y, test_size=0.33, random_state=0)\n",
    "    dfo = RandomForestClassifier(criterion=\"gini\", n_estimators=15, max_depth=10)\n",
    "    dfo.fit(X_train, y_train)\n",
    "    y_predict2 = dfo.predict(X_test)\n",
    "    acc = accuracy_score(y_test,y_predict2)\n",
    "\n",
    "    for i in range(50): \n",
    "        Xs_train, Xs_test, ys_train, ys_test = train_test_split(X, y, test_size=0.33, random_state=0)\n",
    "        dfs = RandomForestClassifier(criterion=\"gini\", n_estimators=15, max_depth=10)\n",
    "        dfs.fit(Xs_train, ys_train)\n",
    "        ys_predict2 = dfs.predict(Xs_test)\n",
    "        accs = accuracy_score(ys_test,ys_predict2)\n",
    "\n",
    "    if accs > acc : \n",
    "        X_train, X_test, y_train, y_test = Xs_train, Xs_test, ys_train, ys_test\n",
    "        dfo = dfs\n",
    "        y_predict2 = ys_predict2\n",
    "        acc = accs\n",
    "     \n",
    "    return(\"Les abeilles sont mortes il y a environ \" + str(dfo.predict(pred)[0]) + \" jours avec une fiabilité de \" + \n",
    "                  str(accuracy_score(y_test,y_predict2)*100)[0:5] + \" %\")"
   ]
  },
  {
   "cell_type": "code",
   "execution_count": 49,
   "metadata": {},
   "outputs": [],
   "source": [
    "#nbi:hide_in\n",
    "def on_button_clicked1(b):\n",
    "        with output1:\n",
    "            output1.clear_output()\n",
    "            res = pred_num_jour(pds_ab.value * 10/3, race.value, saison.value, prec.value, hum.value, \n",
    "                                temp.value)\n",
    "            print(res)\n",
    "\n",
    "            image_nom = \"ML/Courbe/\" + saison.value + \"_\" + race.value + \"_ML\"+ \".png\"\n",
    "            display(Image(filename=image_nom))"
   ]
  },
  {
   "cell_type": "code",
   "execution_count": 50,
   "id": "shared-brazil",
   "metadata": {},
   "outputs": [
    {
     "data": {
      "application/vnd.jupyter.widget-view+json": {
       "model_id": "0c417df139d74fe084352aee242d04ae",
       "version_major": 2,
       "version_minor": 0
      },
      "text/plain": [
       "Button(button_style='success', description='Prédiction', style=ButtonStyle())"
      ]
     },
     "metadata": {},
     "output_type": "display_data"
    },
    {
     "data": {
      "application/vnd.jupyter.widget-view+json": {
       "model_id": "037639d218e64f7db995376db11215d3",
       "version_major": 2,
       "version_minor": 0
      },
      "text/plain": [
       "Output()"
      ]
     },
     "metadata": {},
     "output_type": "display_data"
    }
   ],
   "source": [
    "#nbi:hide_in\n",
    "button1 = widgets.Button(description=\"Prédiction\", button_style='success') # 'success', 'info', 'warning', 'danger' or '')\n",
    "output1 = widgets.Output()\n",
    "display(button1, output1)\n",
    "\n",
    "button1.on_click(on_button_clicked1)"
   ]
  }
 ],
 "metadata": {
  "kernelspec": {
   "display_name": "Python 3",
   "language": "python",
   "name": "python3"
  },
  "language_info": {
   "codemirror_mode": {
    "name": "ipython",
    "version": 3
   },
   "file_extension": ".py",
   "mimetype": "text/x-python",
   "name": "python",
   "nbconvert_exporter": "python",
   "pygments_lexer": "ipython3",
   "version": "3.7.10"
  }
 },
 "nbformat": 4,
 "nbformat_minor": 5
}

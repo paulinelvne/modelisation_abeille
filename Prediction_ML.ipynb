{
 "cells": [
  {
   "cell_type": "markdown",
   "metadata": {},
   "source": [
    "# Prédiction du jour post mortem d'une abeille avec un modèle linéaire"
   ]
  },
  {
   "cell_type": "code",
   "execution_count": 32,
   "metadata": {},
   "outputs": [],
   "source": [
    "#nbi:hide_in\n",
    "#nbi:hide_out\n",
    "\n",
    "from ipywidgets import widgets\n",
    "from IPython.display import display, Image\n",
    "import pandas as pd"
   ]
  },
  {
   "cell_type": "code",
   "execution_count": 33,
   "metadata": {},
   "outputs": [
    {
     "data": {
      "application/vnd.jupyter.widget-view+json": {
       "model_id": "40b23ccb9b444db9b78783a53b1c846d",
       "version_major": 2,
       "version_minor": 0
      },
      "text/plain": [
       "VBox(children=(Label(value='Poids 300 abeilles en g'), FloatText(value=0.0)))"
      ]
     },
     "metadata": {},
     "output_type": "display_data"
    }
   ],
   "source": [
    "#nbi:hide_in\n",
    "Label_ab = widgets.Label('Poids 300 abeilles en g')\n",
    "pds_ab = widgets.FloatText()\n",
    "\n",
    "widgets.VBox([Label_ab,pds_ab])"
   ]
  },
  {
   "cell_type": "code",
   "execution_count": 34,
   "metadata": {},
   "outputs": [],
   "source": [
    "#nbi:hide_in\n",
    "saison = widgets.RadioButtons(\n",
    "value = 'printemps',\n",
    "options = ['printemps', 'hiver'],\n",
    "description = 'Saison :'\n",
    ")"
   ]
  },
  {
   "cell_type": "code",
   "execution_count": 35,
   "metadata": {},
   "outputs": [],
   "source": [
    "#nbi:hide_in\n",
    "race = widgets.RadioButtons(\n",
    "value = 'hybride',\n",
    "options = ['hybride', 'noire'],\n",
    "description = 'Race abeille :'\n",
    ")"
   ]
  },
  {
   "cell_type": "code",
   "execution_count": 36,
   "metadata": {},
   "outputs": [
    {
     "data": {
      "application/vnd.jupyter.widget-view+json": {
       "model_id": "f4ec8bfe4de7464295231d8b6b2d6bdc",
       "version_major": 2,
       "version_minor": 0
      },
      "text/plain": [
       "VBox(children=(Label(value=\"Les abeilles d'hiver sont les abeilles retrouvées après le 01/09\"), HBox(children=…"
      ]
     },
     "metadata": {},
     "output_type": "display_data"
    }
   ],
   "source": [
    "#nbi:hide_in\n",
    "Label = widgets.Label(\"Les abeilles d'hiver sont les abeilles retrouvées après le 01/09\")\n",
    "h = widgets.HBox([race, saison])\n",
    "widgets.VBox([Label, h])"
   ]
  },
  {
   "cell_type": "code",
   "execution_count": 37,
   "metadata": {},
   "outputs": [],
   "source": [
    "#nbi:hide_in\n",
    "def pred_num_jour(pds, race, saison):\n",
    "    data_nom = saison + \"_\" + race + \".csv\"\n",
    "    data = pd.read_csv(data_nom, sep=\";\", decimal = \",\")\n",
    "    \n",
    "    for i,p in enumerate(data[\"pdsab_calc\"]):\n",
    "        if pds > p :\n",
    "            if i == 0 :\n",
    "                return \"Les abeilles sont mortes entre hier et aujourd'hui\"\n",
    "            \n",
    "            else :\n",
    "                dist_j = pds - p \n",
    "                dist_j1 = data[\"pdsab_calc\"][i-1] - pds\n",
    "                \n",
    "                if dist_j <= dist_j1 :\n",
    "                    return \"Les abeilles sont mortes depuis \" + str(data[\"num_jour\"][i]) + \" jours\"\n",
    "                \n",
    "                else :\n",
    "                    return \"Les abeilles sont mortes depuis \" + str(data[\"num_jour\"][i-1]) + \" jours\"\n",
    "                \n",
    "    return \"Les abeilles sont mortes il y a plus de 30 jours\""
   ]
  },
  {
   "cell_type": "code",
   "execution_count": 47,
   "metadata": {},
   "outputs": [],
   "source": [
    "#nbi:hide_in\n",
    "def on_button_clicked1(b):\n",
    "    with output1:\n",
    "        output1.clear_output()\n",
    "        res = pred_num_jour(pds_ab.value * 10/3, race.value, saison.value)\n",
    "        print(res)\n",
    "        \n",
    "        image_nom = saison.value + \"_\" + race.value + \".png\"\n",
    "        display(Image(filename=image_nom))\n",
    "            \n"
   ]
  },
  {
   "cell_type": "code",
   "execution_count": 46,
   "metadata": {},
   "outputs": [
    {
     "data": {
      "application/vnd.jupyter.widget-view+json": {
       "model_id": "cf9432c1b70142118846f55a39b378c8",
       "version_major": 2,
       "version_minor": 0
      },
      "text/plain": [
       "Button(button_style='success', description='Prédiction', style=ButtonStyle())"
      ]
     },
     "metadata": {},
     "output_type": "display_data"
    },
    {
     "data": {
      "application/vnd.jupyter.widget-view+json": {
       "model_id": "774df40c44614b9189f5d1c6cf1af0fc",
       "version_major": 2,
       "version_minor": 0
      },
      "text/plain": [
       "Output()"
      ]
     },
     "metadata": {},
     "output_type": "display_data"
    }
   ],
   "source": [
    "#nbi:hide_in\n",
    "button1 = widgets.Button(description=\"Prédiction\", button_style='success') # 'success', 'info', 'warning', 'danger' or '')\n",
    "output1 = widgets.Output()\n",
    "display(button1, output1)\n",
    "\n",
    "button1.on_click(on_button_clicked1)"
   ]
  }
 ],
 "metadata": {
  "kernelspec": {
   "display_name": "Python 3",
   "language": "python",
   "name": "python3"
  },
  "language_info": {
   "codemirror_mode": {
    "name": "ipython",
    "version": 3
   },
   "file_extension": ".py",
   "mimetype": "text/x-python",
   "name": "python",
   "nbconvert_exporter": "python",
   "pygments_lexer": "ipython3",
   "version": "3.7.10"
  }
 },
 "nbformat": 4,
 "nbformat_minor": 2
}

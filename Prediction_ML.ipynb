{
 "cells": [
  {
   "cell_type": "code",
   "execution_count": 12,
   "metadata": {},
   "outputs": [],
   "source": [
    "#nbi:hide_in\n",
    "#nbi:hide_out\n",
    "\n",
    "#from ipywidgets import interact, interactive, widgets\n",
    "#from IPython.display import display, Image\n",
    "import pandas as pd\n",
    "from math import floor, ceil\n",
    "#from sklearn.ensemble import RandomForestClassifier\n",
    "#from sklearn.model_selection import train_test_split\n",
    "#from sklearn.metrics import accuracy_score\n",
    "#import matplotlib.image as img\n",
    "#import matplotlib.pyplot as plt"
   ]
  },
  {
   "cell_type": "code",
   "execution_count": 22,
   "metadata": {},
   "outputs": [
    {
     "data": {
      "text/plain": [
       "'92'"
      ]
     },
     "execution_count": 22,
     "metadata": {},
     "output_type": "execute_result"
    }
   ],
   "source": [
    "data = pd.read_csv(\"printemps_hybride.csv\", sep=\";\", decimal = \",\")\n",
    "\n",
    "str(ceil(data[\"pdsab_calc\"][3]))"
   ]
  },
  {
   "cell_type": "code",
   "execution_count": 26,
   "metadata": {},
   "outputs": [],
   "source": [
    "def pred_num_jour(pds, race, saison):\n",
    "    data_nom = saison + \"_\" + race + \".csv\"\n",
    "    data = pd.read_csv(data_nom, sep=\";\", decimal = \",\")\n",
    "    \n",
    "    for i,p in enumerate(data[\"pdsab_calc\"]):\n",
    "        if pds > p :\n",
    "            if i == 0 :\n",
    "                return \"Les abeilles sont mortes entre hier et aujourd'hui\"\n",
    "            \n",
    "            else :\n",
    "                dist_j = pds - p \n",
    "                dist_j1 = data[\"pdsab_calc\"][i-1] - pds\n",
    "                \n",
    "                if dist_j <= dist_j1 :\n",
    "                    return \"Les abeilles sont mortes depuis \" + str(floor(data[\"num_jour\"][i])) + \" ou \" + str(ceil(data[\"num_jour\"][i])) + \" jours\"\n",
    "                \n",
    "                else :\n",
    "                    return \"Les abeilles sont mortes depuis \" + str(floor(data[\"num_jour\"][i-1])) + \" ou \" + str(ceil(data[\"num_jour\"][i-1])) + \" jours\""
   ]
  },
  {
   "cell_type": "code",
   "execution_count": 27,
   "metadata": {},
   "outputs": [
    {
     "data": {
      "text/plain": [
       "'Les abeilles sont mortes depuis 38 ou 39 jours'"
      ]
     },
     "execution_count": 27,
     "metadata": {},
     "output_type": "execute_result"
    }
   ],
   "source": [
    "pred_num_jour(40.5, \"noire\", \"printemps\")"
   ]
  }
 ],
 "metadata": {
  "kernelspec": {
   "display_name": "Python 3",
   "language": "python",
   "name": "python3"
  },
  "language_info": {
   "codemirror_mode": {
    "name": "ipython",
    "version": 3
   },
   "file_extension": ".py",
   "mimetype": "text/x-python",
   "name": "python",
   "nbconvert_exporter": "python",
   "pygments_lexer": "ipython3",
   "version": "3.7.10"
  }
 },
 "nbformat": 4,
 "nbformat_minor": 2
}

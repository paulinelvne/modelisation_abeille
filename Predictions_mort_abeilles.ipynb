{
 "cells": [
  {
   "cell_type": "markdown",
   "metadata": {},
   "source": [
    "# Chargement des données"
   ]
  },
  {
   "cell_type": "code",
   "execution_count": 3,
   "metadata": {},
   "outputs": [
    {
     "name": "stdout",
     "output_type": "stream",
     "text": [
      "Requirement already satisfied: sklearn in /srv/conda/envs/notebook/lib/python3.7/site-packages (0.0)\n",
      "Requirement already satisfied: scikit-learn in /srv/conda/envs/notebook/lib/python3.7/site-packages (from sklearn) (0.24.2)\n",
      "Requirement already satisfied: joblib>=0.11 in /srv/conda/envs/notebook/lib/python3.7/site-packages (from scikit-learn->sklearn) (1.0.1)\n",
      "Requirement already satisfied: numpy>=1.13.3 in /srv/conda/envs/notebook/lib/python3.7/site-packages (from scikit-learn->sklearn) (1.21.2)\n",
      "Requirement already satisfied: scipy>=0.19.1 in /srv/conda/envs/notebook/lib/python3.7/site-packages (from scikit-learn->sklearn) (1.7.1)\n",
      "Requirement already satisfied: threadpoolctl>=2.0.0 in /srv/conda/envs/notebook/lib/python3.7/site-packages (from scikit-learn->sklearn) (2.2.0)\n"
     ]
    }
   ],
   "source": [
    "#nbi:hide_in\n",
    "#nbi:hide_out\n",
    "\n",
    "from ipywidgets import widgets\n",
    "from IPython.display import display, Image\n",
    "import pandas as pd\n",
    "\n",
    "!pip3 install sklearn\n",
    "\n",
    "from sklearn.ensemble import RandomForestClassifier\n",
    "from sklearn.model_selection import train_test_split\n",
    "from sklearn.metrics import accuracy_score"
   ]
  },
  {
   "cell_type": "code",
   "execution_count": 30,
   "metadata": {},
   "outputs": [],
   "source": [
    "#nbi:hide_in\n",
    "Label_ab = widgets.Label('Poids 300 abeilles en g   (compris entre 55.3 g et 3.8 g)')\n",
    "pds_ab = widgets.FloatText()"
   ]
  },
  {
   "cell_type": "code",
   "execution_count": 31,
   "metadata": {},
   "outputs": [
    {
     "data": {
      "application/vnd.jupyter.widget-view+json": {
       "model_id": "602df0f65e784741a37235b710b7fc8d",
       "version_major": 2,
       "version_minor": 0
      },
      "text/plain": [
       "VBox(children=(Label(value='Poids 300 abeilles en g   (compris entre 55.3 g et 3.8 g)'), HBox(children=(FloatT…"
      ]
     },
     "metadata": {},
     "output_type": "display_data"
    }
   ],
   "source": [
    "#nbi:hide_in\n",
    "def f(a):\n",
    "    print(\"Le poids moyen d'une abeille est de \" + str(round(a*10/3, 1)) + \" mg\")\n",
    "\n",
    "out = widgets.interactive_output(f, {'a': pds_ab})\n",
    "\n",
    "p_ab = widgets.HBox([pds_ab, out])\n",
    "widgets.VBox([Label_ab, p_ab])"
   ]
  },
  {
   "cell_type": "code",
   "execution_count": 32,
   "metadata": {},
   "outputs": [],
   "source": [
    "#nbi:hide_in\n",
    "saison = widgets.RadioButtons(\n",
    "value = 'printemps',\n",
    "options = ['printemps', 'hiver'],\n",
    "description = 'Saison :'\n",
    ")"
   ]
  },
  {
   "cell_type": "code",
   "execution_count": 33,
   "metadata": {},
   "outputs": [],
   "source": [
    "#nbi:hide_in\n",
    "race = widgets.RadioButtons(\n",
    "value = 'hybride',\n",
    "options = ['hybride', 'noire'],\n",
    "description = 'Race abeille :'\n",
    ")"
   ]
  },
  {
   "cell_type": "code",
   "execution_count": 34,
   "metadata": {},
   "outputs": [
    {
     "data": {
      "application/vnd.jupyter.widget-view+json": {
       "model_id": "9fb66be403474944841ce0b80aa3a277",
       "version_major": 2,
       "version_minor": 0
      },
      "text/plain": [
       "VBox(children=(Label(value=\"Les abeilles d'hiver sont les abeilles retrouvées après le 01/09\"), HBox(children=…"
      ]
     },
     "metadata": {},
     "output_type": "display_data"
    }
   ],
   "source": [
    "#nbi:hide_in\n",
    "Label = widgets.Label(\"Les abeilles d'hiver sont les abeilles retrouvées après le 01/09\")\n",
    "h = widgets.HBox([race, saison])\n",
    "widgets.VBox([Label, h])"
   ]
  },
  {
   "cell_type": "markdown",
   "metadata": {},
   "source": [
    "# Prédiction du jour post mortem d'une abeille avec un modèle linéaire"
   ]
  },
  {
   "cell_type": "code",
   "execution_count": 35,
   "metadata": {},
   "outputs": [],
   "source": [
    "#nbi:hide_in\n",
    "def pred_num_jour_ML(pds, race, saison):\n",
    "    data_nom = \"ML/Donnee/\" + saison + \"_\" + race + \"_ML\" + \".csv\"\n",
    "    data = pd.read_csv(data_nom, sep=\";\", decimal = \",\")\n",
    "    \n",
    "    if pds > 184.38 :\n",
    "        return \"Le poids entré est trop élevé. Etes-vous sûr d'avoir pesé 300 abeilles ?\"\n",
    "    \n",
    "    elif pds < 12.66 :\n",
    "        return \"Le poids entré est trop faible. Etes-vous sûr d'avoir pesé 300 abeilles ?\"\n",
    "    \n",
    "    else :\n",
    "        for i,p in enumerate(data[\"pdsab_calc\"]):\n",
    "            if pds > p :\n",
    "                if i == 0 :\n",
    "                    return \"Les abeilles sont mortes entre hier et aujourd'hui\"\n",
    "\n",
    "                else :\n",
    "                    dist_j = pds - p \n",
    "                    dist_j1 = data[\"pdsab_calc\"][i-1] - pds\n",
    "\n",
    "                    if dist_j <= dist_j1 :\n",
    "                        return \"Les abeilles sont mortes depuis \" + str(data[\"num_jour\"][i]) + \" jours\"\n",
    "\n",
    "                    else :\n",
    "                        return \"Les abeilles sont mortes depuis \" + str(data[\"num_jour\"][i-1]) + \" jours\"\n",
    "\n",
    "        return \"Les abeilles sont mortes il y a plus de 30 jours\""
   ]
  },
  {
   "cell_type": "code",
   "execution_count": 36,
   "metadata": {},
   "outputs": [],
   "source": [
    "#nbi:hide_in\n",
    "def on_button_clicked1(b):\n",
    "    with output1:\n",
    "        output1.clear_output()\n",
    "        res = pred_num_jour_ML(pds_ab.value * 10/3, race.value, saison.value)\n",
    "        print(res)\n",
    "        \n",
    "        image_nom = \"ML/Courbe/\" + saison.value + \"_\" + race.value + \"_ML\"+ \".png\"\n",
    "        display(Image(filename=image_nom))\n",
    "            \n"
   ]
  },
  {
   "cell_type": "code",
   "execution_count": 37,
   "metadata": {},
   "outputs": [
    {
     "data": {
      "application/vnd.jupyter.widget-view+json": {
       "model_id": "a4e4d150cd8141cea486e86c7e698944",
       "version_major": 2,
       "version_minor": 0
      },
      "text/plain": [
       "Button(button_style='success', description='Prédiction ML', style=ButtonStyle())"
      ]
     },
     "metadata": {},
     "output_type": "display_data"
    },
    {
     "data": {
      "application/vnd.jupyter.widget-view+json": {
       "model_id": "ac57a16a2ee04f17863022e7dac7d640",
       "version_major": 2,
       "version_minor": 0
      },
      "text/plain": [
       "Output()"
      ]
     },
     "metadata": {},
     "output_type": "display_data"
    }
   ],
   "source": [
    "#nbi:hide_in\n",
    "button1 = widgets.Button(description=\"Prédiction ML\", button_style='success') # 'success', 'info', 'warning', 'danger' or '')\n",
    "output1 = widgets.Output()\n",
    "display(button1, output1)\n",
    "\n",
    "button1.on_click(on_button_clicked1)"
   ]
  },
  {
   "cell_type": "markdown",
   "metadata": {},
   "source": [
    "# Prédiction du jour post mortem d'une abeille avec un modèle non linéaire"
   ]
  },
  {
   "cell_type": "code",
   "execution_count": 38,
   "metadata": {},
   "outputs": [],
   "source": [
    "#nbi:hide_in\n",
    "def pred_num_jour_MNL(pds, race, saison):\n",
    "    data_nom = \"MNL/Donnee/\" + saison + \"_\" + race + \"_MNL\" + \".csv\"\n",
    "    data = pd.read_csv(data_nom, sep=\";\", decimal = \",\")\n",
    "    \n",
    "    if pds > 184.38 :\n",
    "        return \"Le poids entré est trop élevé. Etes-vous sûr d'avoir pesé 300 abeilles ?\"\n",
    "    \n",
    "    elif pds < 12.66 :\n",
    "        return \"Le poids entré est trop faible. Etes-vous sûr d'avoir pesé 300 abeilles ?\"\n",
    "    \n",
    "    else :\n",
    "        for i,p in enumerate(data[\"pdsab_calc\"]):\n",
    "            if pds > p :\n",
    "                if i == 0 :\n",
    "                    return \"Les abeilles sont mortes entre hier et aujourd'hui\"\n",
    "\n",
    "                else :\n",
    "                    dist_j = pds - p \n",
    "                    dist_j1 = data[\"pdsab_calc\"][i-1] - pds\n",
    "\n",
    "                    if dist_j <= dist_j1 :\n",
    "                        return \"Les abeilles sont mortes depuis \" + str(data[\"num_jour\"][i]) + \" jours\"\n",
    "\n",
    "                    else :\n",
    "                        return \"Les abeilles sont mortes depuis \" + str(data[\"num_jour\"][i-1]) + \" jours\"\n",
    "\n",
    "        return \"Les abeilles sont mortes il y a plus de 30 jours\""
   ]
  },
  {
   "cell_type": "code",
   "execution_count": 39,
   "metadata": {},
   "outputs": [],
   "source": [
    "#nbi:hide_in\n",
    "def on_button_clicked2(b):\n",
    "    with output2:\n",
    "        output2.clear_output()\n",
    "        res = pred_num_jour_MNL(pds_ab.value * 10/3, race.value, saison.value)\n",
    "        print(res)\n",
    "        \n",
    "        image_nom = \"MNL/Courbe/\" + saison.value + \"_\" + race.value + \"_MNL\"+ \".png\"\n",
    "        display(Image(filename=image_nom))\n",
    "            \n"
   ]
  },
  {
   "cell_type": "code",
   "execution_count": 40,
   "metadata": {},
   "outputs": [
    {
     "data": {
      "application/vnd.jupyter.widget-view+json": {
       "model_id": "c20134e20d4a4cb79d484df29a57dc7b",
       "version_major": 2,
       "version_minor": 0
      },
      "text/plain": [
       "Button(button_style='info', description='Prédiction MNL', style=ButtonStyle())"
      ]
     },
     "metadata": {},
     "output_type": "display_data"
    },
    {
     "data": {
      "application/vnd.jupyter.widget-view+json": {
       "model_id": "4d1f153865ff4b6d97d7127518d2ee21",
       "version_major": 2,
       "version_minor": 0
      },
      "text/plain": [
       "Output()"
      ]
     },
     "metadata": {},
     "output_type": "display_data"
    }
   ],
   "source": [
    "#nbi:hide_in\n",
    "button2 = widgets.Button(description=\"Prédiction MNL\", button_style='info') # 'success', 'info', 'warning', 'danger' or '')\n",
    "output2 = widgets.Output()\n",
    "display(button2, output2)\n",
    "\n",
    "button2.on_click(on_button_clicked2)"
   ]
  },
  {
   "cell_type": "markdown",
   "metadata": {},
   "source": [
    "# Prédiction du jour post mortem d'une abeille par classification"
   ]
  },
  {
   "cell_type": "code",
   "execution_count": 41,
   "metadata": {},
   "outputs": [],
   "source": [
    "#nbi:hide_in\n",
    "Label_prec = widgets.Label('Précipitation en mm')\n",
    "prec = widgets.FloatText()\n",
    "\n",
    "vbox1prec = widgets.VBox([Label_prec,prec])"
   ]
  },
  {
   "cell_type": "code",
   "execution_count": 42,
   "metadata": {},
   "outputs": [],
   "source": [
    "#nbi:hide_in\n",
    "Label_hum = widgets.Label('Humidité en %')\n",
    "hum = widgets.FloatText()\n",
    "\n",
    "vbox1hum = widgets.VBox([Label_hum, hum])"
   ]
  },
  {
   "cell_type": "code",
   "execution_count": 43,
   "metadata": {},
   "outputs": [],
   "source": [
    "#nbi:hide_in\n",
    "Label_temp = widgets.Label('Température moyenne en °C')\n",
    "temp = widgets.FloatText()\n",
    "\n",
    "vbox1temp = widgets.VBox([Label_temp, temp])"
   ]
  },
  {
   "cell_type": "code",
   "execution_count": 44,
   "metadata": {},
   "outputs": [
    {
     "data": {
      "application/vnd.jupyter.widget-view+json": {
       "model_id": "a9a4088c9ba7425ebc47be6577cf247d",
       "version_major": 2,
       "version_minor": 0
      },
      "text/plain": [
       "VBox(children=(VBox(children=(Label(value='Précipitation en mm'), FloatText(value=0.0))), VBox(children=(Label…"
      ]
     },
     "metadata": {},
     "output_type": "display_data"
    }
   ],
   "source": [
    "#nbi:hide_in\n",
    "widgets.VBox([vbox1prec, vbox1hum, vbox1temp])"
   ]
  },
  {
   "cell_type": "code",
   "execution_count": 45,
   "metadata": {},
   "outputs": [],
   "source": [
    "#nbi:hide_in\n",
    "def pred_num_jour_DT(pds, race, saison, precipitation, humidite, temperature):\n",
    "    dic_race = {'hybride' : 0, 'noire' : 1}\n",
    "    dic_saison = {'printemps' : 1, 'hiver' : 0}\n",
    "            \n",
    "            \n",
    "    name_column = [\"pdsab_calc\", \"saison_exp\", \"race\", \"precipitation\", \"humidite\", \"moy_temp\"]\n",
    "            \n",
    "    list_pred = [[pds, dic_saison[saison], dic_race[race], precipitation, humidite, temperature]]\n",
    "            \n",
    "            \n",
    "    pred = pd.DataFrame(list_pred, columns = name_column)\n",
    "            \n",
    "            \n",
    "    df = pd.read_csv(\"info_tot_ab_3.csv\",sep=\";\", decimal = \",\")\n",
    "    df.dropna(inplace=True)\n",
    "    values=[\"semaine1\", \"semaine2\", \"semaine3\", \"semaine4\"]\n",
    "    filtered_df = df[df.semaine.isin(values)]\n",
    "                        \n",
    "    y = filtered_df[\"jour\"]\n",
    "    X = filtered_df.copy()\n",
    "\n",
    "    col_sup = [\"num_jour\", \"semaine\", \"site_lot_nbab\", \"date\", \"nbab\" ,\"cadre\", \"cause_mort\", \"origine\", \"lot\", \n",
    "           \"site\", \"Departement\", \"Region\", \"meteo_km\", \"alt_site_m\", \"alt_meteo_m\", \"somme_precipitation_3\",\n",
    "           \"somme_precipitation_7\", \"temp_12h\", \"expo_vent\", \"type\", \"orientation\", \"humidite_J1\", \"humidite_J2\", \n",
    "           \"humidite_J3\", \"moy_temp_J1\", \"moy_temp_J2\", \"moy_temp_J3\", \"precipitation_J1\", \"precipitation_J2\", \n",
    "           \"precipitation_J3\", \"jour\", 'expo_lum']\n",
    "\n",
    "    for e in col_sup :\n",
    "        del X[e]\n",
    "            \n",
    "    col_categorie = [\"saison_exp\", \"race\"]\n",
    "\n",
    "    for e in col_categorie :\n",
    "        X[e] = pd.Categorical(X[e]).codes\n",
    "            \n",
    "    X_train, X_test, y_train, y_test = train_test_split(X, y, test_size=0.33, random_state=0)\n",
    "    dfo = RandomForestClassifier(criterion=\"gini\", n_estimators=15, max_depth=10)\n",
    "    dfo.fit(X_train, y_train)\n",
    "    y_predict2 = dfo.predict(X_test)\n",
    "    acc = accuracy_score(y_test,y_predict2)\n",
    "\n",
    "    for i in range(50): \n",
    "        Xs_train, Xs_test, ys_train, ys_test = train_test_split(X, y, test_size=0.33, random_state=0)\n",
    "        dfs = RandomForestClassifier(criterion=\"gini\", n_estimators=15, max_depth=10)\n",
    "        dfs.fit(Xs_train, ys_train)\n",
    "        ys_predict2 = dfs.predict(Xs_test)\n",
    "        accs = accuracy_score(ys_test,ys_predict2)\n",
    "\n",
    "    if accs > acc : \n",
    "        X_train, X_test, y_train, y_test = Xs_train, Xs_test, ys_train, ys_test\n",
    "        dfo = dfs\n",
    "        y_predict2 = ys_predict2\n",
    "        acc = accs\n",
    "     \n",
    "    return(\"Les abeilles sont mortes il y a environ \" + str(dfo.predict(pred)[0]) + \" jours avec une fiabilité de \" + \n",
    "                  str(accuracy_score(y_test,y_predict2)*100)[0:5] + \" %\")"
   ]
  },
  {
   "cell_type": "code",
   "execution_count": 46,
   "metadata": {},
   "outputs": [],
   "source": [
    "#nbi:hide_in\n",
    "def on_button_clicked3(b):\n",
    "        with output3:\n",
    "            output3.clear_output()\n",
    "            res = pred_num_jour_DT(pds_ab.value * 10/3, race.value, saison.value, prec.value, hum.value, \n",
    "                                temp.value)\n",
    "            print(res)\n",
    "\n",
    "            image_nom = \"ML/Courbe/\" + saison.value + \"_\" + race.value + \"_ML\"+ \".png\"\n",
    "            display(Image(filename=image_nom))"
   ]
  },
  {
   "cell_type": "code",
   "execution_count": 47,
   "metadata": {},
   "outputs": [
    {
     "data": {
      "application/vnd.jupyter.widget-view+json": {
       "model_id": "5a380c8a093a4f25ad61255a060fa5ce",
       "version_major": 2,
       "version_minor": 0
      },
      "text/plain": [
       "Button(button_style='warning', description='Prédiction', style=ButtonStyle())"
      ]
     },
     "metadata": {},
     "output_type": "display_data"
    },
    {
     "data": {
      "application/vnd.jupyter.widget-view+json": {
       "model_id": "839c303605ef45e2943420140ab81b9b",
       "version_major": 2,
       "version_minor": 0
      },
      "text/plain": [
       "Output()"
      ]
     },
     "metadata": {},
     "output_type": "display_data"
    }
   ],
   "source": [
    "#nbi:hide_in\n",
    "button3 = widgets.Button(description=\"Prédiction\", button_style='warning') # 'success', 'info', 'warning', 'danger' or '')\n",
    "output3 = widgets.Output()\n",
    "display(button3, output3)\n",
    "\n",
    "button3.on_click(on_button_clicked3)"
   ]
  },
  {
   "cell_type": "code",
   "execution_count": null,
   "metadata": {},
   "outputs": [],
   "source": [
    "#nbi:hide_in"
   ]
  }
 ],
 "metadata": {
  "kernelspec": {
   "display_name": "Python 3",
   "language": "python",
   "name": "python3"
  },
  "language_info": {
   "codemirror_mode": {
    "name": "ipython",
    "version": 3
   },
   "file_extension": ".py",
   "mimetype": "text/x-python",
   "name": "python",
   "nbconvert_exporter": "python",
   "pygments_lexer": "ipython3",
   "version": "3.7.10"
  }
 },
 "nbformat": 4,
 "nbformat_minor": 2
}
